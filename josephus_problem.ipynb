{
 "cells": [
  {
   "cell_type": "markdown",
   "metadata": {},
   "source": [
    "### Josephus 问题  \n",
    "n个人围坐一圈，从第k个人开始报数，报到第m个数的人退出；  \n",
    "然后 从下一个人开始继续报数并按同样规则退出，直至所有人退出。"
   ]
  },
  {
   "cell_type": "code",
   "execution_count": 1,
   "metadata": {},
   "outputs": [],
   "source": [
    "def josephus(n, k, m):\n",
    "    people = list(range(1, n+1))\n",
    "    index_k = k-1\n",
    "    for num in range(n, 0, -1):\n",
    "        index_k = (index_k + m-1) % num\n",
    "        print(people.pop(index_k), end = (',' if num>1 else '\\n'))\n",
    "    return "
   ]
  },
  {
   "cell_type": "code",
   "execution_count": 2,
   "metadata": {},
   "outputs": [
    {
     "name": "stdout",
     "output_type": "stream",
     "text": [
      "8,5,3,2,4,7,1,6,9,10\n"
     ]
    }
   ],
   "source": [
    "# 淘汰的序列\n",
    "josephus(10,2,7)"
   ]
  },
  {
   "cell_type": "code",
   "execution_count": null,
   "metadata": {},
   "outputs": [],
   "source": []
  }
 ],
 "metadata": {
  "kernelspec": {
   "display_name": "Python 3",
   "language": "python",
   "name": "python3"
  },
  "language_info": {
   "codemirror_mode": {
    "name": "ipython",
    "version": 3
   },
   "file_extension": ".py",
   "mimetype": "text/x-python",
   "name": "python",
   "nbconvert_exporter": "python",
   "pygments_lexer": "ipython3",
   "version": "3.6.4"
  }
 },
 "nbformat": 4,
 "nbformat_minor": 2
}
