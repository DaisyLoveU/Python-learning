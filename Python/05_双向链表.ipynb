{
 "cells": [
  {
   "cell_type": "markdown",
   "metadata": {},
   "source": [
    "# 双向链表"
   ]
  },
  {
   "cell_type": "markdown",
   "metadata": {},
   "source": [
    "一种更复杂的链表是“双向链表”或“双面链表”。每个节点有两个链接：一个指向前一个节点，当此节点为第一个节点时，指向空值；而另一个指向下一个节点，当此节点为最后一个节点时，指向空值。"
   ]
  },
  {
   "cell_type": "markdown",
   "metadata": {},
   "source": [
    "![双向链表](images/双向链表.png)"
   ]
  },
  {
   "cell_type": "markdown",
   "metadata": {},
   "source": [
    "## 操作"
   ]
  },
  {
   "cell_type": "markdown",
   "metadata": {},
   "source": [
    "- is_empty() 链表是否为空 \n",
    "- length() 链表长度\n",
    "- travel() 遍历链表\n",
    "- add(item) 链表头部添加 \n",
    "- append(item) 链表尾部添加 \n",
    "- insert(pos, item) 指定位置添加 \n",
    "- remove(item) 删除节点 \n",
    "- search(item) 查找节点是否存在 "
   ]
  },
  {
   "cell_type": "markdown",
   "metadata": {},
   "source": [
    "## 实现"
   ]
  },
  {
   "cell_type": "code",
   "execution_count": 2,
   "metadata": {},
   "outputs": [],
   "source": [
    "class DoubleNode:\n",
    "    '''双向链表节点'''\n",
    "    def __init__(self, elem):\n",
    "        self.item = elem\n",
    "        self.next = None\n",
    "        self.pre = None"
   ]
  },
  {
   "cell_type": "code",
   "execution_count": 3,
   "metadata": {},
   "outputs": [],
   "source": [
    "class DoubleLinkList:\n",
    "    '''双向链表'''\n",
    "    def __init__(self):\n",
    "        self.__head = None\n",
    "        \n",
    "    def is_empty(self):\n",
    "        '''判断链表是否为空'''\n",
    "        return self.__head is None\n",
    "    \n",
    "    def length(self):\n",
    "        '''链表长度'''\n",
    "#         curent指向头节点\n",
    "        curent = self.__head\n",
    "        count = 0\n",
    "#         尾节点指向None，当未到达尾部时\n",
    "        while curent != None:\n",
    "            count += 1\n",
    "#             将curent后移一个节点\n",
    "            curent = curent.next\n",
    "        return count\n",
    "    \n",
    "    def travel(self):\n",
    "        '''遍历链表'''\n",
    "        curent = self.__head\n",
    "        while curent != None:\n",
    "            print(curent.item, end =' ')\n",
    "            curent = curent.next\n",
    "        print()\n",
    "        \n",
    "    def add(self, item):\n",
    "        '''往头部添加元素'''\n",
    "        node = DoubleNode(item)\n",
    "        if self.is_empty():\n",
    "#             判断链表是否为空，若真，则直接令head指向node\n",
    "            self.__head = node\n",
    "        else:\n",
    "            node.next = self.__head\n",
    "            self.__head = node\n",
    "            node.next.pre = node\n",
    "        \n",
    "    def append(self, item):\n",
    "        '''尾部添加元素'''\n",
    "        node = DoubleNode(item)\n",
    "        if self.is_empty():\n",
    "            self.__head = node\n",
    "        else:\n",
    "            curent = self.__head\n",
    "            while curent.next != None:\n",
    "                curent = curent.next\n",
    "            curent.next = node\n",
    "            node.pre = curent\n",
    "            \n",
    "    def insert(self, position, value):  #--1\n",
    "        '''指定位置添加元素'''\n",
    "        if position <= 0:\n",
    "            # 如果给定位置小于等于0.则在首部添加元素\n",
    "            self.add(value)\n",
    "        elif position > (self.length() - 1):\n",
    "            # 如果给定位置大于链表长度，则在尾部添加元素\n",
    "            self.append(value)\n",
    "        else:\n",
    "            # 如果给定位置在链表中间\n",
    "            node = DoubleNode(value)\n",
    "            count = 0\n",
    "            curent = self.__head\n",
    "            while count < position - 1:\n",
    "                # 遍历链表直到找到给定位置的前一个节点\n",
    "                count += 1\n",
    "                curent = curent.next\n",
    "            # 找到给定位置的前一个节点后，令该位置指向新节点，新节点指向该位置的下一个节点\n",
    "#             node.next, curent.next = curent.next, node\n",
    "#             注意交换引用的顺序！！！\n",
    "            node.pre, node.next = curent, curent.next\n",
    "            curent.next.pre, curent.next = node, node\n",
    "            \n",
    "            \n",
    "    def remove(self, item):  #--2\n",
    "        '''删除节点'''\n",
    "        curent = self.__head  # 当前节点\n",
    "        if self.is_empty():\n",
    "            return 'the ssl is empty'\n",
    "        while curent != None:\n",
    "            if curent.item == item:\n",
    "#                 如果该节点是第一个节点\n",
    "                if not curent.pre:\n",
    "                    self.__head = curent.next\n",
    "                    if curent.next:\n",
    "#                     判断是否只有一个节点\n",
    "                        curent.next.pre = None\n",
    "                else:\n",
    "                    curent.pre.next = curent.next\n",
    "                    if curent.next:\n",
    "#                         判断是否最后一个节点\n",
    "                        curent.next.pre = curent.pre\n",
    "                break\n",
    "            else:\n",
    "                curent = curent.next\n",
    "                \n",
    "    def contains(self, item):\n",
    "        '''链表是否包含该节点，返回True或False'''\n",
    "        curent = self.__head\n",
    "        while curent != None:\n",
    "            if curent.item ==  item:\n",
    "                return True\n",
    "            else:\n",
    "                curent = curent.next\n",
    "        return False\n",
    "                "
   ]
  },
  {
   "cell_type": "markdown",
   "metadata": {},
   "source": [
    "## 指定位置插入节点"
   ]
  },
  {
   "cell_type": "markdown",
   "metadata": {},
   "source": [
    "![双向链表指定位置插入元素](images/双向链表指定位置插入元素.png)"
   ]
  },
  {
   "cell_type": "markdown",
   "metadata": {},
   "source": [
    "代码实现如#--1"
   ]
  },
  {
   "cell_type": "markdown",
   "metadata": {},
   "source": [
    "## 删除元素"
   ]
  },
  {
   "cell_type": "markdown",
   "metadata": {},
   "source": [
    "![双向列表删除元素](images/双向链表删除节点.png)"
   ]
  },
  {
   "cell_type": "markdown",
   "metadata": {},
   "source": [
    "代码实现如#--2"
   ]
  },
  {
   "cell_type": "markdown",
   "metadata": {},
   "source": [
    "## 测试"
   ]
  },
  {
   "cell_type": "code",
   "execution_count": 4,
   "metadata": {},
   "outputs": [
    {
     "name": "stdout",
     "output_type": "stream",
     "text": [
      "1 2 \n",
      "1 2 3 4 5 6 \n",
      "1 2 666 3 4 5 6 \n",
      "2 3 4 5 \n"
     ]
    }
   ],
   "source": [
    "if __name__ == '__main__':\n",
    "    dll = DoubleLinkList()\n",
    "    dll.is_empty()\n",
    "    dll.add(1)\n",
    "    dll.append(2)\n",
    "    dll.travel()\n",
    "    dll.append(3)\n",
    "    dll.append(4)\n",
    "    dll.append(5)\n",
    "    dll.append(6)\n",
    "    dll.travel()\n",
    "    dll.insert(2,666)\n",
    "    dll.travel()\n",
    "    dll.remove(1)\n",
    "    dll.remove(6)\n",
    "    dll.remove(666)\n",
    "    dll.travel()"
   ]
  },
  {
   "cell_type": "code",
   "execution_count": 5,
   "metadata": {},
   "outputs": [
    {
     "name": "stdout",
     "output_type": "stream",
     "text": [
      "2 3 4 5 \n"
     ]
    }
   ],
   "source": [
    "dll.remove(666)\n",
    "dll.travel()"
   ]
  }
 ],
 "metadata": {
  "kernelspec": {
   "display_name": "Python 3",
   "language": "python",
   "name": "python3"
  },
  "language_info": {
   "codemirror_mode": {
    "name": "ipython",
    "version": 3
   },
   "file_extension": ".py",
   "mimetype": "text/x-python",
   "name": "python",
   "nbconvert_exporter": "python",
   "pygments_lexer": "ipython3",
   "version": "3.6.4"
  }
 },
 "nbformat": 4,
 "nbformat_minor": 2
}
