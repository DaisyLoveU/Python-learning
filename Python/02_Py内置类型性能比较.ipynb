{
 "cells": [
  {
   "cell_type": "markdown",
   "metadata": {},
   "source": [
    "# Python内置类型性能分析"
   ]
  },
  {
   "cell_type": "markdown",
   "metadata": {},
   "source": [
    "## timeit模块"
   ]
  },
  {
   "cell_type": "markdown",
   "metadata": {},
   "source": [
    "timeit模块可以用来测试一小段Python代码的执行速度。\n",
    "\n",
    "**class timeit.Timer(stmt='pass', setup='pass', timer=<\\timer function>)\n",
    "**"
   ]
  },
  {
   "cell_type": "markdown",
   "metadata": {},
   "source": [
    "Timer是测量小段代码执行速度的类。  \n",
    "stmt参数是要测试的代码语句（statment）；  \n",
    "setup参数是运行代码时需要的设置；  \n",
    "timer参数是一个定时器函数，与平台有关。"
   ]
  },
  {
   "cell_type": "markdown",
   "metadata": {},
   "source": [
    "**timeit.Timer.timeit(number=1000000)\n",
    "**  \n",
    "\n",
    "Timer类中测试语句执行速度的对象方法。number参数是测试代码时的测试次数，默认为1000000次。方法返回执行代码的平均耗时，一个float类型的秒数。\n"
   ]
  },
  {
   "cell_type": "markdown",
   "metadata": {},
   "source": [
    "## list的操作测试"
   ]
  },
  {
   "cell_type": "code",
   "execution_count": 1,
   "metadata": {},
   "outputs": [
    {
     "name": "stdout",
     "output_type": "stream",
     "text": [
      "concat  1.6079034393570835 seconds\n",
      "append  0.0907690570762898 seconds\n",
      "comprehension  0.03673902556681141 seconds\n",
      "list range  0.01550266342334572 seconds\n"
     ]
    }
   ],
   "source": [
    "def test1():\n",
    "   l = []\n",
    "   for i in range(1000):\n",
    "      l = l + [i]\n",
    "def test2():\n",
    "   l = []\n",
    "   for i in range(1000):\n",
    "      l.append(i)\n",
    "def test3():\n",
    "   l = [i for i in range(1000)]\n",
    "def test4():\n",
    "   l = list(range(1000))\n",
    "\n",
    "from timeit import Timer\n",
    "\n",
    "t1 = Timer(\"test1()\", \"from __main__ import test1\")\n",
    "print(\"concat \",t1.timeit(number=1000), \"seconds\")\n",
    "t2 = Timer(\"test2()\", \"from __main__ import test2\")\n",
    "print(\"append \",t2.timeit(number=1000), \"seconds\")\n",
    "t3 = Timer(\"test3()\", \"from __main__ import test3\")\n",
    "print(\"comprehension \",t3.timeit(number=1000), \"seconds\")\n",
    "t4 = Timer(\"test4()\", \"from __main__ import test4\")\n",
    "print(\"list range \",t4.timeit(number=1000), \"seconds\")"
   ]
  },
  {
   "cell_type": "markdown",
   "metadata": {},
   "source": [
    "### pop操作测试"
   ]
  },
  {
   "cell_type": "code",
   "execution_count": 4,
   "metadata": {},
   "outputs": [
    {
     "name": "stdout",
     "output_type": "stream",
     "text": [
      "pop_zero  1.9215354455974136 seconds\n",
      "pop_end  0.00013589104085554027 seconds\n"
     ]
    }
   ],
   "source": [
    "x = list(range(2000000))\n",
    "pop_zero = Timer(\"x.pop(0)\",\"from __main__ import x\")\n",
    "print(\"pop_zero \",pop_zero.timeit(number=1000), \"seconds\")\n",
    "x = list(range(2000000))\n",
    "pop_end = Timer(\"x.pop()\",\"from __main__ import x\")\n",
    "print(\"pop_end \",pop_end.timeit(number=1000), \"seconds\")"
   ]
  },
  {
   "cell_type": "markdown",
   "metadata": {},
   "source": [
    "**测试pop操作：从结果可以看出，pop最后一个元素的效率远远高于pop第一个元素\n",
    "**"
   ]
  },
  {
   "cell_type": "markdown",
   "metadata": {},
   "source": [
    "### insert(0, value)和append(value)测试"
   ]
  },
  {
   "cell_type": "code",
   "execution_count": 8,
   "metadata": {},
   "outputs": [
    {
     "name": "stdout",
     "output_type": "stream",
     "text": [
      "append(value)  0.6452989294988356 seconds\n",
      "insert(0, value)  9.972093892087742 seconds\n"
     ]
    }
   ],
   "source": [
    "def func1():\n",
    "    x = list(range(20000))\n",
    "    for i in range(1000):\n",
    "        x.append(i)\n",
    "def func2():\n",
    "    x = list(range(20000))\n",
    "    for i in range(1000):\n",
    "        x.insert(0, i)\n",
    "append = Timer(\"func1()\", \"from __main__ import func1\")\n",
    "print(\"append(value) \", append.timeit(number=1000), \"seconds\")\n",
    "\n",
    "insert = Timer(\"func2()\", \"from __main__ import func2\")\n",
    "print(\"insert(0, value) \", insert.timeit(number=1000), \"seconds\")"
   ]
  },
  {
   "cell_type": "markdown",
   "metadata": {},
   "source": [
    "**append(value) 即在末尾插入值远远比insert(0, value)即在首部插值快**"
   ]
  },
  {
   "cell_type": "markdown",
   "metadata": {},
   "source": [
    "## list内置操作的时间复杂度"
   ]
  },
  {
   "cell_type": "markdown",
   "metadata": {},
   "source": [
    "Operation | Big-O Efficiency\n",
    "- | -\n",
    "indexx[] | O(1)\n",
    "index assignment | O(1)\n",
    "append | O(1)\n",
    "pop() | O(1)\n",
    "pop(i) | O(n)\n",
    "insert(i, item) | O(n)\n",
    "del operator | O(n)\n",
    "iteration | O(n)\n",
    "contains(in) | O(n)\n",
    "get slice[x:y] | O(k)\n",
    "del slice | O(n)\n",
    "set slice | O(n+k)\n",
    "reverse | O(n)\n",
    "concatenate | O(k)\n",
    "sort | O(nlogn)\n",
    "multipy | O(nk)"
   ]
  },
  {
   "cell_type": "markdown",
   "metadata": {},
   "source": [
    "## dict内置操作的时间复杂度"
   ]
  },
  {
   "cell_type": "markdown",
   "metadata": {},
   "source": [
    "| Operation | Big-O Efficiency\n",
    "| :-: | :-\n",
    "| copy | O(n)\n",
    "| get item | O(1)\n",
    "| set item | O(1)\n",
    "| delete item | O(1)\n",
    "| contains(in) | O(1)\n",
    "| iteration | O(n)"
   ]
  },
  {
   "cell_type": "code",
   "execution_count": null,
   "metadata": {},
   "outputs": [],
   "source": []
  }
 ],
 "metadata": {
  "kernelspec": {
   "display_name": "Python 3",
   "language": "python",
   "name": "python3"
  },
  "language_info": {
   "codemirror_mode": {
    "name": "ipython",
    "version": 3
   },
   "file_extension": ".py",
   "mimetype": "text/x-python",
   "name": "python",
   "nbconvert_exporter": "python",
   "pygments_lexer": "ipython3",
   "version": "3.6.4"
  }
 },
 "nbformat": 4,
 "nbformat_minor": 2
}
