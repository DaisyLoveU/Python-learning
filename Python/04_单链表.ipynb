{
 "cells": [
  {
   "cell_type": "markdown",
   "metadata": {},
   "source": [
    "# 链表"
   ]
  },
  {
   "cell_type": "markdown",
   "metadata": {},
   "source": [
    "## 为什么需要链表"
   ]
  },
  {
   "cell_type": "markdown",
   "metadata": {},
   "source": [
    "顺序表的构建需要预先知道数据大小来申请连续的存储空间，而在进行扩充时又需要进行数据的搬迁，所以使用起来并不是很灵活。  \n",
    "\n",
    "链表结构可以充分利用计算机内存空间，实现灵活的内存动态管理。\n"
   ]
  },
  {
   "cell_type": "markdown",
   "metadata": {},
   "source": [
    "## 链表的定义"
   ]
  },
  {
   "cell_type": "markdown",
   "metadata": {},
   "source": [
    "链表（Linked list）是一种常见的基础数据结构，是一种线性表，但是不像顺序表一样连续存储数据，而是在每一个节点（数据存储单元）里存放下一个节点的位置信息（即地址）。\n"
   ]
  },
  {
   "cell_type": "markdown",
   "metadata": {},
   "source": [
    "## 单向链表"
   ]
  },
  {
   "cell_type": "markdown",
   "metadata": {},
   "source": [
    "单向链表也叫单链表，是链表中最简单的一种形式，它的每个节点包含两个域，一个信息域（元素域）和一个链接域。这个链接指向链表中的下一个节点，而最后一个节点的链接域则指向一个空值。 "
   ]
  },
  {
   "cell_type": "markdown",
   "metadata": {},
   "source": [
    "![单项链表](images/单链表的节点和单链表.png)"
   ]
  },
  {
   "cell_type": "markdown",
   "metadata": {},
   "source": [
    "- 表元素域elem用来存放具体的数据。\n",
    "- 链接域next用来存放下一个节点的位置（python中的标识）\n",
    "- 变量p指向链表的头节点（首节点）的位置，从p出发能找到表中的任意节点。"
   ]
  },
  {
   "cell_type": "markdown",
   "metadata": {},
   "source": [
    "## 节点实现"
   ]
  },
  {
   "cell_type": "code",
   "execution_count": 2,
   "metadata": {},
   "outputs": [],
   "source": [
    "class SingleNode:\n",
    "    '''单链表节点'''\n",
    "    def __init__(self, elem):\n",
    "#         item存放数据枸元素\n",
    "        self.item = elem\n",
    "#     next指向下一个节点\n",
    "        self.next = None\n",
    "        "
   ]
  },
  {
   "cell_type": "markdown",
   "metadata": {},
   "source": [
    "## 单链表的操作"
   ]
  },
  {
   "cell_type": "markdown",
   "metadata": {},
   "source": [
    "- is_empty() 链表是否为空 \n",
    "- length() 链表长度 \n",
    "- travel() 遍历整个链表\n",
    "- add(item) 链表头部添加元素\n",
    "- append(item) 链表尾部添加元素\n",
    "- insert(pos, item) 指定位置添加元素\n",
    "- remove(item) 删除节点 \n",
    "- search(item) 查找节点是否存在 "
   ]
  },
  {
   "cell_type": "markdown",
   "metadata": {},
   "source": [
    "## 单链表的实现"
   ]
  },
  {
   "cell_type": "code",
   "execution_count": 3,
   "metadata": {},
   "outputs": [],
   "source": [
    "class SingleLinkList:\n",
    "    '''单链表'''\n",
    "    def __init__(self):\n",
    "        self.__head = None\n",
    "        \n",
    "    def is_empty(self):\n",
    "        '''判断链表是否为空'''\n",
    "        return self.__head == None\n",
    "    \n",
    "    def length(self):\n",
    "        '''链表长度'''\n",
    "#         curent指向头节点\n",
    "        curent = self.__head\n",
    "        count = 0\n",
    "#         尾节点指向None，当未到达尾部时\n",
    "        while curent != None:\n",
    "            count += 1\n",
    "#             将curent后移一个节点\n",
    "            curent = curent.next\n",
    "        return count\n",
    "    \n",
    "    def travel(self):\n",
    "        '''遍历链表'''\n",
    "        curent = self.__head\n",
    "        while curent != None:\n",
    "            print(curent.item, end =' ')\n",
    "            curent = curent.next\n",
    "        print()\n",
    "        \n",
    "    def add(self, item):  #--1\n",
    "        '''往头部添加元素'''\n",
    "        node = SingleNode(item)\n",
    "        node.next = self.__head\n",
    "        self.__head = node\n",
    "        \n",
    "    def append(self, item):  #--2\n",
    "        '''尾部添加元素'''\n",
    "        node = SingleNode(item)\n",
    "        if self.is_empty():\n",
    "            self.__head = node\n",
    "        else:\n",
    "            curent = self.__head\n",
    "            while curent.next != None:\n",
    "                curent = curent.next\n",
    "            curent.next = node\n",
    "            \n",
    "    def insert(self, position, value):  #--3\n",
    "        '''指定位置添加元素'''\n",
    "        if position <= 0:\n",
    "            # 如果给定位置小于等于0.则在首部添加元素\n",
    "            self.add(value)\n",
    "        elif position > (self.length() - 1):\n",
    "            # 如果给定位置大于链表长度，则在尾部添加元素\n",
    "            self.append(value)\n",
    "        else:\n",
    "            # 如果给定位置在链表中间\n",
    "            node = SingleNode(value)\n",
    "            count = 0\n",
    "            curent = self.__head\n",
    "            while count < position - 1:\n",
    "                # 遍历链表直到找到给定位置的前一个节点\n",
    "                count += 1\n",
    "                curent = curent.next\n",
    "            # 找到给定位置的前一个节点后，令该位置指向新节点，新节点指向该位置的下一个节点\n",
    "            node.next, curent.next = curent.next, node\n",
    "            \n",
    "    def remove(self, item):  #--4\n",
    "        '''删除节点'''\n",
    "        curent = self.__head  # 当前节点\n",
    "        pre = None  # 前一节点\n",
    "        if self.is_empty():\n",
    "            return 'the ssl is empty'\n",
    "        while curent != None:\n",
    "            if curent.item == item:\n",
    "                if not pre:\n",
    "                    self.__head = curent.next\n",
    "                else:\n",
    "                    pre.next = curent.next\n",
    "                break\n",
    "            else:\n",
    "                pre, curent = curent, curent.next\n",
    "        \n",
    "    def contains(self, item):  #--5\n",
    "        '''链表是否包含该节点，返回True或False'''\n",
    "        curent = self.__head\n",
    "        while curent != None:\n",
    "            if curent.item ==  item:\n",
    "                return True\n",
    "            else:\n",
    "                curent = curent.next\n",
    "        return False\n",
    "                "
   ]
  },
  {
   "cell_type": "markdown",
   "metadata": {},
   "source": [
    "### 头部添加元素"
   ]
  },
  {
   "cell_type": "markdown",
   "metadata": {},
   "source": [
    "![单链表头部添加元素](images/单链表表头插入元素.png)"
   ]
  },
  {
   "cell_type": "markdown",
   "metadata": {},
   "source": [
    "代码实现如#--1"
   ]
  },
  {
   "cell_type": "markdown",
   "metadata": {},
   "source": [
    "### 尾部添加元素"
   ]
  },
  {
   "cell_type": "markdown",
   "metadata": {},
   "source": [
    "代码实现如#--2"
   ]
  },
  {
   "cell_type": "markdown",
   "metadata": {},
   "source": [
    "### 指定位置添加元素"
   ]
  },
  {
   "cell_type": "markdown",
   "metadata": {},
   "source": [
    "![单链表指定位置添加元素](images/单链表指定位置添加元素.png)"
   ]
  },
  {
   "cell_type": "markdown",
   "metadata": {},
   "source": [
    "代码实现如#--3"
   ]
  },
  {
   "cell_type": "markdown",
   "metadata": {},
   "source": [
    "### 删除节点"
   ]
  },
  {
   "cell_type": "markdown",
   "metadata": {},
   "source": [
    "![单链表删除节点](images/单链表删除节点.png)"
   ]
  },
  {
   "cell_type": "markdown",
   "metadata": {},
   "source": [
    "代码实现如#--4"
   ]
  },
  {
   "cell_type": "markdown",
   "metadata": {},
   "source": [
    "### 查找是否存在节点"
   ]
  },
  {
   "cell_type": "markdown",
   "metadata": {},
   "source": [
    "代码实现如#--5"
   ]
  },
  {
   "cell_type": "markdown",
   "metadata": {},
   "source": [
    "### 测试"
   ]
  },
  {
   "cell_type": "code",
   "execution_count": 4,
   "metadata": {},
   "outputs": [
    {
     "name": "stdout",
     "output_type": "stream",
     "text": [
      "1 2 666 3 4 5 \n",
      "2 666 3 4 5 \n",
      "2 3 4 5 \n"
     ]
    }
   ],
   "source": [
    "if __name__ == '__main__':\n",
    "    sll = SingleLinkList()\n",
    "    sll.add(1)\n",
    "    sll.append(2)\n",
    "    sll.append(3)\n",
    "    sll.append(4)\n",
    "    sll.append(5)\n",
    "    sll.insert(2,666)\n",
    "    sll.travel()\n",
    "    sll.remove(1)\n",
    "    sll.travel()\n",
    "    sll.remove(666)\n",
    "    sll.travel()"
   ]
  },
  {
   "cell_type": "markdown",
   "metadata": {},
   "source": [
    "# 链表与顺序表的对比"
   ]
  },
  {
   "cell_type": "markdown",
   "metadata": {},
   "source": [
    "链表失去了顺序表随机读取的优点，同时链表由于增加了结点的指针域，空间开销比较大，但对存储空间的使用要相对灵活。  \n",
    "\n",
    "链表与顺序表的各种操作复杂度如下所示： "
   ]
  },
  {
   "cell_type": "markdown",
   "metadata": {},
   "source": [
    "| 操作 | 链表 | 顺序表\n",
    "| - | - | -\n",
    "| 访问元素 | O(n) | O(1)\n",
    "| 在头部插入/删除 | O(1) | O(n)\n",
    "| 在尾部插入/删除 | O(n) | O(1)\n",
    "| 在中间插入/删除 | O(n) | O(n)"
   ]
  },
  {
   "cell_type": "markdown",
   "metadata": {},
   "source": [
    "注意虽然表面看起来复杂度都是 O(n)，但是链表和顺序表在插入和删除时进行的是完全不同的操作。链表的主要耗时操作是遍历查找，删除和插入操作本身的复杂度是O(1)。顺序表查找很快，主要耗时的操作是拷贝覆盖。因为除了目标元素在尾部的特殊情况，顺序表进行插入和删除时需要对操作点之后的所有元素进行前后移位操作，只能通过拷贝和覆盖的方法进行。"
   ]
  }
 ],
 "metadata": {
  "kernelspec": {
   "display_name": "Python 3",
   "language": "python",
   "name": "python3"
  },
  "language_info": {
   "codemirror_mode": {
    "name": "ipython",
    "version": 3
   },
   "file_extension": ".py",
   "mimetype": "text/x-python",
   "name": "python",
   "nbconvert_exporter": "python",
   "pygments_lexer": "ipython3",
   "version": "3.6.4"
  }
 },
 "nbformat": 4,
 "nbformat_minor": 2
}
