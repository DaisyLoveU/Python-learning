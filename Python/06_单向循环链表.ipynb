{
 "cells": [
  {
   "cell_type": "markdown",
   "metadata": {},
   "source": [
    "# 单向循环链表"
   ]
  },
  {
   "cell_type": "markdown",
   "metadata": {},
   "source": [
    "单链表的一个变形是单向循环链表，链表中最后一个节点的next域不再为None，而是指向链表的头节点。"
   ]
  },
  {
   "cell_type": "markdown",
   "metadata": {},
   "source": [
    "![单向循环链表](images/单向循环链表.png)"
   ]
  },
  {
   "cell_type": "markdown",
   "metadata": {},
   "source": [
    "## 操作"
   ]
  },
  {
   "cell_type": "markdown",
   "metadata": {},
   "source": [
    "- is_empty() 判断链表是否为空\n",
    "- length() 返回链表的长度\n",
    "- travel() 遍历\n",
    "- add(item) 在头部添加一个节点\n",
    "- append(item) 在尾部添加一个节点\n",
    "- insert(pos, item) 在指定位置pos添加节点\n",
    "- remove(item) 删除一个节点\n",
    "- search(item) 查找节点是否存在"
   ]
  },
  {
   "cell_type": "markdown",
   "metadata": {},
   "source": [
    "## 实现"
   ]
  },
  {
   "cell_type": "code",
   "execution_count": 1,
   "metadata": {},
   "outputs": [],
   "source": [
    "class SingleNode:\n",
    "    '''单向循环链表节点'''\n",
    "    def __init__(self, elem):\n",
    "        self.item = elem\n",
    "        self.next = None"
   ]
  },
  {
   "cell_type": "code",
   "execution_count": 4,
   "metadata": {},
   "outputs": [],
   "source": [
    "class SingleCircleLinkList:\n",
    "    '''单链表'''\n",
    "    def __init__(self):\n",
    "        self.__head = None\n",
    "        \n",
    "    def is_empty(self):\n",
    "        '''判断链表是否为空'''\n",
    "        return self.__head == None\n",
    "    \n",
    "    def length(self):\n",
    "        '''链表长度'''\n",
    "#         curent指向头节点\n",
    "        if self.is_empty():\n",
    "            return 0\n",
    "        curent = self.__head\n",
    "        count = 1\n",
    "#         尾节点指向None，当未到达尾部时\n",
    "        while curent.next != self.__head:\n",
    "            count += 1\n",
    "#             将curent后移一个节点\n",
    "            curent = curent.next\n",
    "        return count\n",
    "    \n",
    "    def travel(self):\n",
    "        '''遍历链表'''\n",
    "        if self.is_empty():\n",
    "            return \n",
    "        curent = self.__head\n",
    "        while curent.next != self.__head:\n",
    "            print(curent.item, end =' ')\n",
    "            curent = curent.next\n",
    "        print(curent.item)\n",
    "        \n",
    "    def add(self, item):\n",
    "        '''往头部添加元素'''\n",
    "        node = SingleNode(item)\n",
    "        if self.is_empty():\n",
    "#             判断是否为空，空则将头部指向新建node\n",
    "                self.__head = node\n",
    "        \n",
    "                node.next = self.__head\n",
    "        else:\n",
    "            curent = self.__head\n",
    "            while curent.next != self.__head:\n",
    "                curent = curent.next\n",
    "            curent.next = node    \n",
    "            node.next = self.__head\n",
    "            self.__head = node\n",
    "        \n",
    "    def append(self, item):\n",
    "        '''尾部添加元素'''\n",
    "        if self.is_empty():\n",
    "            self.add(item)\n",
    "        else:\n",
    "            node = SingleNode(item)\n",
    "            curent = self.__head\n",
    "            while curent.next != self.__head:\n",
    "                curent = curent.next\n",
    "            curent.next = node\n",
    "            node.next = self.__head\n",
    "            \n",
    "    def insert(self, position, value):\n",
    "        '''指定位置添加元素'''\n",
    "        if position <= 0:\n",
    "            # 如果给定位置小于等于0.则在首部添加元素\n",
    "            self.add(value)\n",
    "        elif position > (self.length() - 1):\n",
    "            # 如果给定位置大于链表长度，则在尾部添加元素\n",
    "            self.append(value)\n",
    "        else:\n",
    "            # 如果给定位置在链表中间\n",
    "            node = SingleNode(value)\n",
    "            count = 0\n",
    "            curent = self.__head\n",
    "            while count < position - 1:\n",
    "                # 遍历链表直到找到给定位置的前一个节点\n",
    "                count += 1\n",
    "                curent = curent.next\n",
    "            # 找到给定位置的前一个节点后，令该位置指向新节点，新节点指向该位置的下一个节点\n",
    "            node.next, curent.next = curent.next, node\n",
    "            \n",
    "    def remove(self, item):\n",
    "        '''删除节点'''\n",
    "        curent = self.__head  # 当前节点\n",
    "        pre = None  # 前一节点\n",
    "        if self.is_empty():\n",
    "                return 'the ssl is empty'\n",
    "            \n",
    "        while curent.next != self.__head:\n",
    "            \n",
    "            if curent.item == item:\n",
    "#             如果是需要删除头节点\n",
    "                if curent == self.__head:\n",
    "                    rear = self.__head\n",
    "                    while rear.next != self.__head:\n",
    "                        rear = rear.next\n",
    "                    self.__head = curent.next\n",
    "                    rear.next = self.__head\n",
    "                else:\n",
    "                    pre.next = curent.next\n",
    "                return\n",
    "            else:\n",
    "                pre = curent\n",
    "                curent = curent.next\n",
    "            \n",
    "#       退出循环，curent指向尾节点\n",
    "        if curent.item == item:\n",
    "            if curent == self.__head:\n",
    "                self.__head = None\n",
    "            else:\n",
    "                pre.next = curent.next\n",
    "        \n",
    "    def contains(self, item):\n",
    "        '''链表是否包含该节点，返回True或False'''\n",
    "        if self.is_empty():\n",
    "            return False\n",
    "        curent = self.__head\n",
    "        while curent.next != self.__head:\n",
    "            if curent.item ==  item:\n",
    "                return True\n",
    "            else:\n",
    "                curent = curent.next\n",
    "        if curent.item == item:\n",
    "            return True\n",
    "        return False\n",
    "                "
   ]
  },
  {
   "cell_type": "code",
   "execution_count": 6,
   "metadata": {},
   "outputs": [
    {
     "name": "stdout",
     "output_type": "stream",
     "text": [
      "6\n",
      "6 2 1 4 3 5\n",
      "True\n",
      "False\n",
      "length: 5\n",
      "6 2 4 3 5\n",
      "2 4 3\n"
     ]
    }
   ],
   "source": [
    "ll = SingleCircleLinkList()\n",
    "ll.add(1)\n",
    "ll.add(2)\n",
    "ll.append(3)\n",
    "ll.insert(2, 4)\n",
    "ll.insert(4, 5)\n",
    "ll.insert(0, 6)\n",
    "print(ll.length())\n",
    "ll.travel()\n",
    "print (ll.contains(3))\n",
    "print (ll.contains(7))\n",
    "ll.remove(1)\n",
    "print (\"length:\",ll.length())\n",
    "ll.travel()\n",
    "ll.remove(6)\n",
    "ll.remove(5)\n",
    "ll.travel()"
   ]
  },
  {
   "cell_type": "code",
   "execution_count": null,
   "metadata": {},
   "outputs": [],
   "source": []
  }
 ],
 "metadata": {
  "kernelspec": {
   "display_name": "Python 3",
   "language": "python",
   "name": "python3"
  },
  "language_info": {
   "codemirror_mode": {
    "name": "ipython",
    "version": 3
   },
   "file_extension": ".py",
   "mimetype": "text/x-python",
   "name": "python",
   "nbconvert_exporter": "python",
   "pygments_lexer": "ipython3",
   "version": "3.6.4"
  }
 },
 "nbformat": 4,
 "nbformat_minor": 2
}
