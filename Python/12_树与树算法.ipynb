{
 "cells": [
  {
   "cell_type": "markdown",
   "metadata": {},
   "source": [
    "# 树与树算法"
   ]
  },
  {
   "cell_type": "markdown",
   "metadata": {},
   "source": [
    "## 树的概念"
   ]
  },
  {
   "cell_type": "markdown",
   "metadata": {},
   "source": [
    "树（英语：tree）是一种抽象数据类型（ADT）或是实作这种抽象数据类型的数据结构，用来模拟具有树状结构性质的数据集合。它是由n（n>=1）个有限节点组成一个具有层次关系的集合。把它叫做“树”是因为它看起来像一棵倒挂的树，也就是说它是根朝上，而叶朝下的。它具有以下的特点：  \n",
    "- 每个节点有零个或多个子节点； \n",
    "- 没有父节点的节点称为根节点； \n",
    "- 每一个非根节点有且只有一个父节点； \n",
    "- 除了根节点外，每个子节点可以分为多个不相交的子树；\n",
    "\n",
    "举例：\n",
    "![](images/tree.png)\n",
    "![](images/Treedatastructure.png)"
   ]
  },
  {
   "cell_type": "markdown",
   "metadata": {},
   "source": [
    "## 树的术语  \n",
    "\n",
    "- **节点的度**：一个节点含有的子树的个数称为该节点的度；\n",
    "- **树的度**：一棵树中，最大的节点的度称为树的度；\n",
    "- **叶节点**或终端节点：度为零的节点；\n",
    "- **父亲节点或父节点**：若一个节点含有子节点，则这个节点称为其子节点的父节点；\n",
    "- **孩子节点或子节点**：一个节点含有的子树的根节点称为该节点的子节点；\n",
    "- **兄弟节点**：具有相同父节点的节点互称为兄弟节点；\n",
    "- 节点的**层次**：从根开始定义起，根为第1层，根的子节点为第2层，以此类推；\n",
    "- 树的**高度**或**深度**：树中节点的最大层次；\n",
    "- **堂兄弟节点**：父节点在同一层的节点互为堂兄弟；\n",
    "- **节点的祖先**：从根到该节点所经分支上的所有节点；\n",
    "- **子孙**：以某节点为根的子树中任一节点都称为该节点的子孙。\n",
    "- **森林**：由m（m>=0）棵互不相交的树的集合称为森林；"
   ]
  },
  {
   "cell_type": "markdown",
   "metadata": {},
   "source": [
    "## 树的种类\n",
    "\n",
    "- **无序树**：树中任意节点的子节点之间没有顺序关系，这种树称为无序树，也称为自由树；\n",
    "- **有序树**：树中任意节点的子节点之间有顺序关系，这种树称为有序树；\n",
    " - 二叉树：每个节点最多含有两个子树的树称为二叉树； \n",
    "      - 完全二叉树：对于一颗二叉树，假设其深度为d(d>1)。除了第d层外，其它各层的节点数目均已达最大值，且第d层所有节点从左向右连续地紧密排列，这样的二叉树被称为完全二叉树，其中满二叉树的定义是所有叶节点都在最底层的完全二叉树; \n",
    "      - 平衡二叉树（AVL树）：当且仅当任何节点的两棵子树的高度差不大于1的二叉树； \n",
    "      - 排序二叉树（二叉查找树（英语：Binary Search Tree），也称二叉搜索树、有序二叉树）； \n",
    " - 霍夫曼树（用于信息编码）：带权路径最短的二叉树称为哈夫曼树或最优二叉树；\n",
    " - B树：一种对读写操作进行优化的自平衡的二叉查找树，能够保持数据有序，拥有多余两个子树。"
   ]
  },
  {
   "cell_type": "markdown",
   "metadata": {},
   "source": [
    "## 树的存储与表示\n",
    "\n",
    "**顺序存储**：将数据结构存储在固定的数组中，然在遍历速度上有一定的优势，但因所占空间比较大，是非主流二叉树。二叉树通常以链式存储。  \n",
    "\n",
    "![](images/树的顺序存储.png)\n",
    "  \n",
    "**链式存储**：  \n",
    "\n",
    "![](images/树的链式存储.png)  \n",
    "\n",
    "    由于对节点的个数无法掌握，常见树的存储表示都转换成二叉树进行处理，子节点个数最多为2\n"
   ]
  },
  {
   "cell_type": "markdown",
   "metadata": {},
   "source": [
    "## 常见的一些树的应用场景  \n",
    "\n",
    "1. xml，html等，那么编写这些东西的解析器的时候，不可避免用到树\n",
    "2. 路由协议就是使用了树的算法\n",
    "3. mysql数据库索引\n",
    "4. 文件系统的目录结构\n",
    "5. 所以很多经典的AI算法其实都是树搜索，此外机器学习中的decision tree也是树结构  \n",
    "\n",
    "![](images/网页结构.jpg)"
   ]
  },
  {
   "cell_type": "markdown",
   "metadata": {},
   "source": [
    "# 二叉树  \n",
    "\n",
    "## 二叉树的基本概念\n",
    "\n",
    "二叉树是每个节点最多有两个子树的树结构。通常子树被称作“左子树”（left subtree）和“右子树”（right subtree）  \n",
    "\n",
    "## 二叉树的性质(特性)\n",
    "\n",
    "- 性质1: 在二叉树的第i层上至多有2^(i-1)个结点（i>0）\n",
    "- 性质2: 深度为k的二叉树至多有2^k - 1个结点（k>0）\n",
    "- 性质3: 对于任意一棵二叉树，如果其叶结点数为N0，而度数为2的结点总数为N2，则N0=N2+1;\n",
    "- 性质4:具有n个结点的完全二叉树的深度必为 log2(n+1)\n",
    "- 性质5:具有n个结点的二叉树的空指针域为n+1\n",
    "- 性质6:对完全二叉树，若从上至下、从左至右编号，则编号为i 的结点，其左孩子编号必为2i，其右孩子编号必为2i＋1；其双亲的编号必为i/2（i＝1 时为根,除外）"
   ]
  },
  {
   "cell_type": "markdown",
   "metadata": {},
   "source": [
    "## 完全二叉树\n",
    "\n",
    "若设二叉树的高度为h，除第 h 层外，其它各层 (1～h-1) 的结点数都达到最大个数，第h层有叶子结点，并且叶子结点都是从左到右依次排布，这就是完全二叉树。  \n",
    "![](images/完全二叉树.png)"
   ]
  },
  {
   "cell_type": "markdown",
   "metadata": {},
   "source": [
    "## 满二叉树\n",
    "\n",
    "除了叶结点外每一个结点都有左右子叶且叶子结点都处在最底层的二叉树。  \n",
    "\n",
    "![](images/满二叉树.png)"
   ]
  },
  {
   "cell_type": "markdown",
   "metadata": {},
   "source": [
    "## 二叉树的实现\n",
    "\n",
    "**节点**  \n",
    "\n",
    "通过使用Node类中定义三个属性，分别为element本身的值，还有lchild左孩子和rchild右孩子  \n",
    "\n",
    "代码实现："
   ]
  },
  {
   "cell_type": "code",
   "execution_count": 3,
   "metadata": {},
   "outputs": [],
   "source": [
    "class Node():\n",
    "    '''树节点'''\n",
    "    def __init__(self, item):\n",
    "        self.element = item\n",
    "        self.lchild = None\n",
    "        self.rchild = None\n",
    "        "
   ]
  },
  {
   "cell_type": "markdown",
   "metadata": {},
   "source": [
    "**树的实现：**  \n",
    "\n",
    "创建一个树的类，并给一个root根节点，一开始为空，随后添加节点  \n",
    "\n",
    "代码实现："
   ]
  },
  {
   "cell_type": "code",
   "execution_count": 31,
   "metadata": {},
   "outputs": [],
   "source": [
    "class Tree():\n",
    "    '''二叉树'''\n",
    "    def __init__(self, root = None):\n",
    "        self.root = root\n",
    "        \n",
    "    def add(self, item):\n",
    "        '''为树添加节点'''\n",
    "        node = Node(item)\n",
    "        if self.root == None:\n",
    "            self.root = node\n",
    "        else:\n",
    "            queue = [self.root]\n",
    "            while queue:\n",
    "                cur_node = queue.pop(0)\n",
    "                if cur_node.lchild:\n",
    "                    queue.append(cur_node.lchild)\n",
    "                else:\n",
    "                    cur_node.lchild = node\n",
    "                    return\n",
    "                if cur_node.rchild:\n",
    "                    queue.append(cur_node.rchild)\n",
    "                else:\n",
    "                    cur_node.rchild = node\n",
    "                    return\n",
    "        \n",
    "    def breadth_travel(self):    #-1\n",
    "        '''利用队列实现树的广度遍历'''\n",
    "        if self.root == None:\n",
    "            return\n",
    "        queue = []\n",
    "        queue.append(self.root)\n",
    "        while queue:\n",
    "            node = queue.pop(0)\n",
    "            print(node.element, end=' ')\n",
    "            if node.lchild:\n",
    "                queue.append(node.lchild)\n",
    "            if node.rchild:\n",
    "                queue.append(node.rchild)\n",
    "        print()\n",
    "        \n",
    "    def pre_order(self, node):  #-2\n",
    "        '''深度遍历之递归先序遍历，先根后左再右'''\n",
    "        if node is None:\n",
    "            return\n",
    "        print(node.element, end=' ')\n",
    "        self.pre_order(node.lchild)\n",
    "        self.pre_order(node.rchild)\n",
    "#         print()\n",
    "\n",
    "    def in_order(self, node):  #-3\n",
    "        '''深度遍历之递归中序遍历，先左后根再右'''\n",
    "        if node is None:\n",
    "            return\n",
    "        self.in_order(node.lchild)\n",
    "        print(node.element, end=' ')\n",
    "        self.in_order(node.rchild)\n",
    "        \n",
    "    def post_order(self, node):#-4\n",
    "        '''深度遍历之递归后序，先左后右再根'''\n",
    "        if node is None:\n",
    "            return\n",
    "        self.post_order(node.lchild)\n",
    "        self.post_order(node.rchild)\n",
    "        print(node.element, end=' ')"
   ]
  },
  {
   "cell_type": "code",
   "execution_count": 32,
   "metadata": {
    "scrolled": true
   },
   "outputs": [
    {
     "name": "stdout",
     "output_type": "stream",
     "text": [
      "0 1 2 3 4 5 6 7 8 9 \n",
      "0 1 3 7 8 4 9 2 5 6 \n",
      "7 3 8 1 9 4 0 5 2 6 \n",
      "7 8 3 9 4 1 5 6 2 0 "
     ]
    }
   ],
   "source": [
    "tree = Tree()\n",
    "tree.add(0)\n",
    "tree.add(1)\n",
    "tree.add(2)\n",
    "tree.add(3)\n",
    "tree.add(4)\n",
    "tree.add(5)\n",
    "tree.add(6)\n",
    "tree.add(7)\n",
    "tree.add(8)\n",
    "tree.add(9)\n",
    "tree.breadth_travel()\n",
    "tree.pre_order(tree.root)\n",
    "print()\n",
    "tree.in_order(tree.root)\n",
    "print()\n",
    "tree.post_order(tree.root)"
   ]
  },
  {
   "cell_type": "markdown",
   "metadata": {},
   "source": [
    "## 二叉树的遍历\n",
    "\n",
    "树的遍历是树的一种重要的运算。所谓遍历是指对树中所有结点的信息的访问，即依次对树中每个结点访问一次且仅访问一次，我们把这种对所有节点的访问称为遍历（traversal）。那么树的两种重要的遍历模式是深度优先遍历和广度优先遍历.  \n",
    "**深度优先一般用递归，广度优先一般用队列。**一般情况下能用递归实现的算法大部分也能用堆栈来实现。\n",
    "\n",
    "## 广度优先遍历（层次遍历）\n",
    "\n",
    "广度优先遍历从0层级即root开始，从上到下、从左到右遍历整个树的节点。  \n",
    "\n",
    "代码实现如#-1  \n",
    "\n",
    "## 深度优先遍历\n",
    "\n",
    "对于一颗二叉树，深度优先搜索(Depth First Search)是沿着树的深度遍历树的节点，尽可能深的搜索树的分支。\n",
    "那么深度遍历有重要的三种方法。这三种方式常被用于访问树的节点，它们之间的不同在于访问每个节点的次序不同。这三种遍历分别叫做先序遍历（preorder），中序遍历（inorder）和后序遍历（postorder）。  \n",
    "\n",
    "- 先序遍历 在先序遍历中，我们先访问根节点，然后递归使用先序遍历访问左子树，再递归使用先序遍历访问右子树  \n",
    " 根节点->左子树->右子树  \n",
    "\n",
    " 代码实现如#-2  \n",
    " \n",
    "- 中序遍历 在中序遍历中，我们递归使用中序遍历访问左子树，然后访问根节点，最后再递归使用中序遍历访问右子树  \n",
    " 左子树->根节点->右子树\n",
    "   \n",
    " 代码实现如#-3\n",
    " \n",
    "- 后序遍历 在后序遍历中，我们先递归使用后序遍历访问左子树和右子树，最后访问根节点  \n",
    " 左子树->右子树->根节点  \n",
    " \n",
    " 代码实现如#-4"
   ]
  },
  {
   "cell_type": "markdown",
   "metadata": {},
   "source": [
    "## 由先序、中序或后序、中序写出树结构"
   ]
  },
  {
   "cell_type": "markdown",
   "metadata": {},
   "source": [
    "中序：7 3 8 1 9 4 0 5 2 6   \n",
    "后序：7 8 3 9 4 1 5 6 2 0 \n"
   ]
  },
  {
   "cell_type": "markdown",
   "metadata": {},
   "source": [
    "1. 由后序最后元素0可得根节点为0\n",
    "2. 在中序里，0左边是其的左子树，右边是其右子树\n",
    "3. 根据0的左子树，在后序中划分出0的左子树与右子树  \n",
    " 7 8 3 9 4 1 | 5 6 2  \n",
    "4. 由3可得，0的左子树的根节点为1，右子树的根节点为2，根据后序的左右根顺序，可以将0的右子树写出来。继续看0的左子树，在中序里，1的左边是1的左子树，右边是1的右子树，在后序中继续划分：  \n",
    " 7 8 3 | 9 4\n",
    "5. 由4，可得1的左子树的根节点为3，右子树根节点为4，再根据中序，可得3的左子节点为7，右子节点为8，4的左子节点为9，无右节点。\n",
    "\n",
    "![](images/三种遍历结果.jpg)"
   ]
  }
 ],
 "metadata": {
  "kernelspec": {
   "display_name": "Python 3",
   "language": "python",
   "name": "python3"
  },
  "language_info": {
   "codemirror_mode": {
    "name": "ipython",
    "version": 3
   },
   "file_extension": ".py",
   "mimetype": "text/x-python",
   "name": "python",
   "nbconvert_exporter": "python",
   "pygments_lexer": "ipython3",
   "version": "3.6.4"
  }
 },
 "nbformat": 4,
 "nbformat_minor": 2
}
