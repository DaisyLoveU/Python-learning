{
 "cells": [
  {
   "cell_type": "markdown",
   "metadata": {},
   "source": [
    "# 排序（一）"
   ]
  },
  {
   "cell_type": "markdown",
   "metadata": {},
   "source": [
    "排序算法（英语：Sorting algorithm）是一种能将一串数据依照特定顺序进行排列的一种算法。\n"
   ]
  },
  {
   "cell_type": "markdown",
   "metadata": {},
   "source": [
    "## 排序算法的稳定性\n",
    "  \n",
    "**稳定性**：稳定排序算法会让原本有相等键值的纪录维持相对次序。也就是如果一个排序算法是稳定的，当有两个相等键值的纪录R和S，且在原本的列表中R出现在S之前，在排序过的列表中R也将会是在S之前。  \n",
    "\n",
    "\n",
    "当相等的元素是无法分辨的，比如像是整数，稳定性并不是一个问题。然而，假设以下的数对将要以他们的第一个数字来排序。   \n",
    ">    (4, 1)  (3, 1)  (3, 7)（5, 6）\n",
    "\n",
    "在这个状况下，有可能产生两种不同的结果，一个是让相等键值的纪录维持相对的次序，而另外一个则没有：  \n",
    ">    (3, 1)  (3, 7)  (4, 1)  (5, 6)  （维持次序）  \n",
    ">    (3, 7)  (3, 1)  (4, 1)  (5, 6)  （次序被改变）\n",
    "\n",
    "不稳定排序算法可能会在相等的键值中改变纪录的相对次序，但是稳定排序算法从来不会如此。不稳定排序算法可以被特别地实现为稳定。作这件事情的一个方式是人工扩充键值的比较，如此在其他方面相同键值的两个对象间之比较，（比如上面的比较中加入第二个标准：第二个键值的大小）就会被决定使用在原先数据次序中的条目，当作一个同分决赛。然而，要记住这种次序通常牵涉到额外的空间负担。"
   ]
  },
  {
   "cell_type": "markdown",
   "metadata": {},
   "source": [
    "## 冒泡排序"
   ]
  },
  {
   "cell_type": "markdown",
   "metadata": {},
   "source": [
    "冒泡排序（英语：Bubble Sort）是一种简单的排序算法。它重复地遍历要排序的数列，一次比较两个元素，如果他们的顺序错误就把他们交换过来。遍历数列的工作是重复地进行直到没有再需要交换，也就是说该数列已经排序完成。这个算法的名字由来是因为越小的元素会经由交换慢慢“浮”到数列的顶端。  \n",
    "\n",
    "冒泡排序算法的运作如下：  \n",
    "\n",
    "- 比较相邻的元素。如果第一个比第二个大（升序），就交换他们两个。\n",
    "- 对每一对相邻元素作同样的工作，从开始第一对到结尾的最后一对。这步做完后，最后的元素会是最大的数。\n",
    "- 针对所有的元素重复以上的步骤，除了最后一个。\n",
    "- 持续每次对越来越少的元素重复上面的步骤，直到没有任何一对数字需要比较。"
   ]
  },
  {
   "cell_type": "markdown",
   "metadata": {},
   "source": [
    "**交换过程：**  \n",
    "交换过程第一次图示：\n",
    "![](images/bubblesort.jpg)"
   ]
  },
  {
   "cell_type": "markdown",
   "metadata": {},
   "source": [
    "那么我们需要进行n-1次冒泡过程，每次对应的比较次数如下图所示： \n",
    "![](images/compare.bmp)"
   ]
  },
  {
   "cell_type": "markdown",
   "metadata": {},
   "source": [
    "代码实现："
   ]
  },
  {
   "cell_type": "code",
   "execution_count": 1,
   "metadata": {},
   "outputs": [],
   "source": [
    "def bubble_sort(lyst):\n",
    "    \"\"\"冒泡排序:while循环\"\"\"\n",
    "    end_index = len(lyst) - 1\n",
    "#     每轮冒泡结束后，最大值，已经放置到了最后，所以每轮冒泡结束的索引自减1\n",
    "    while end_index > 0:\n",
    "#         当结束索引为1时，排序结束\n",
    "        i = 0\n",
    "#         从0到end_index，依次比较\n",
    "        while i < end_index:\n",
    "            if lyst[i] > lyst[i+1]:\n",
    "                lyst[i], lyst[i+1] = lyst[i+1], lyst[i]\n",
    "            i += 1\n",
    "        end_index -= 1\n",
    "    return lyst"
   ]
  },
  {
   "cell_type": "code",
   "execution_count": 2,
   "metadata": {},
   "outputs": [],
   "source": [
    "def bubble_sort(lyst):\n",
    "    '''冒牌排序:for循环'''\n",
    "    end_index = len(lyst) - 1\n",
    "    for i in range(end_index, 0, -1):\n",
    "        for j in range(i):\n",
    "            if lyst[j] > lyst[j+1]:\n",
    "                lyst[j], lyst[j+1] = lyst[j+1], lyst[j]\n",
    "    return lyst"
   ]
  },
  {
   "cell_type": "markdown",
   "metadata": {},
   "source": [
    "## 测试"
   ]
  },
  {
   "cell_type": "code",
   "execution_count": 3,
   "metadata": {},
   "outputs": [
    {
     "name": "stdout",
     "output_type": "stream",
     "text": [
      "[23, 34, 47, 18, 30, 28]\n",
      "[18, 23, 28, 30, 34, 47]\n"
     ]
    }
   ],
   "source": [
    "import random\n",
    "lyst = []\n",
    "for i in range(6):\n",
    "    lyst.append(random.randint(1,50))\n",
    "print(lyst)\n",
    "print(bubble_sort(lyst))"
   ]
  },
  {
   "cell_type": "markdown",
   "metadata": {},
   "source": [
    "## 选择排序"
   ]
  },
  {
   "cell_type": "markdown",
   "metadata": {},
   "source": [
    "选择排序（Selection sort）是一种简单直观的排序算法。它的工作原理如下。首先在未排序序列中找到最小（大）元素，存放到排序序列的起始位置，然后，再从剩余未排序元素中继续寻找最小（大）元素，然后放到已排序序列的末尾。以此类推，直到所有元素均排序完毕。  \n",
    "\n",
    "选择排序的主要优点与数据移动有关。如果某个元素位于正确的最终位置上，则它不会被移动。选择排序每次交换一对元素，它们当中至少有一个将被移到其最终位置上，因此对n个元素的表进行排序总共进行至多n-1次交换。在所有的完全依靠交换去移动元素的排序方法中，选择排序属于非常好的一种。\n"
   ]
  },
  {
   "cell_type": "markdown",
   "metadata": {},
   "source": [
    "**排序过程：**\n",
    "![](images/selectionsort.jpg)\n"
   ]
  },
  {
   "cell_type": "markdown",
   "metadata": {},
   "source": [
    "代码实现："
   ]
  },
  {
   "cell_type": "code",
   "execution_count": 4,
   "metadata": {},
   "outputs": [],
   "source": [
    "def selection_sort(lyst):\n",
    "    \"\"\"选择排序,不需辅助空间\"\"\"\n",
    "    i = 0\n",
    "#     遍历列表里所有元素后，排序完成\n",
    "    while i < len(lyst) - 1:\n",
    "#         存放最小值的下标\n",
    "        min_index = i\n",
    "#         设置新的开始遍历的下标，用来找从i以后的最小值\n",
    "        j = i + 1\n",
    "        while j < len(lyst):\n",
    "            if lyst[j] < lyst[min_index]:\n",
    "#                 存放找到较小值时的下标\n",
    "                min_index = j\n",
    "            j += 1\n",
    "#         遍历完成后，min_index存放的即是第i个最小值的下标\n",
    "        if i != min_index:\n",
    "#         如果第i个最小值没有在第i个位置，则交换，令第i个最小值处于第i个位置\n",
    "            lyst[i], lyst[min_index] = lyst[min_index], lyst[i]\n",
    "        i += 1\n",
    "    return lyst"
   ]
  },
  {
   "cell_type": "markdown",
   "metadata": {},
   "source": [
    "## 测试"
   ]
  },
  {
   "cell_type": "code",
   "execution_count": 5,
   "metadata": {},
   "outputs": [
    {
     "name": "stdout",
     "output_type": "stream",
     "text": [
      "[22, 22, 46, 13, 18, 13]\n",
      "[13, 13, 18, 22, 22, 46]\n"
     ]
    }
   ],
   "source": [
    "import random\n",
    "lyst = []\n",
    "for i in range(6):\n",
    "    lyst.append(random.randint(1,50))\n",
    "print(lyst)\n",
    "print(selection_sort(lyst))"
   ]
  },
  {
   "cell_type": "markdown",
   "metadata": {},
   "source": [
    "## 选择排序算法分析"
   ]
  },
  {
   "cell_type": "markdown",
   "metadata": {},
   "source": [
    "- 时间复杂度：外循环n，内循环n，共O(n^2)\n",
    "- 空间复杂度：O(1)\n",
    "- 不稳定"
   ]
  },
  {
   "cell_type": "markdown",
   "metadata": {},
   "source": [
    "## 使用辅助空间的选择排序"
   ]
  },
  {
   "cell_type": "code",
   "execution_count": 6,
   "metadata": {},
   "outputs": [],
   "source": [
    "def find_min_index(lyst):\n",
    "    \"\"\"找出列表最小值的索引,增多辅助空间为O(n)\"\"\"\n",
    "    min_value = lyst[0]\n",
    "    min_index = 0\n",
    "    for i in range(1, len((lyst))):\n",
    "        if lyst[i] < min_value:\n",
    "            min_index = i\n",
    "            min_value = lyst[i]\n",
    "    return min_index\n",
    "\n",
    "def selection_sort(lyst):\n",
    "    \"\"\"选择排序：找出最小值，添加至空列表，原列表弹出该最小值\"\"\"\n",
    "    sorted_lyst = []\n",
    "    for i in range(len(lyst)):\n",
    "        min_index = find_min_index(lyst)\n",
    "        sorted_lyst.append(lyst.pop(min_index))\n",
    "    return sorted_lyst"
   ]
  },
  {
   "cell_type": "markdown",
   "metadata": {},
   "source": [
    "## 测试"
   ]
  },
  {
   "cell_type": "code",
   "execution_count": 7,
   "metadata": {},
   "outputs": [
    {
     "name": "stdout",
     "output_type": "stream",
     "text": [
      "[38, 42, 36, 23, 17, 18]\n",
      "[17, 18, 23, 36, 38, 42]\n"
     ]
    }
   ],
   "source": [
    "import random\n",
    "lyst = []\n",
    "for i in range(6):\n",
    "    lyst.append(random.randint(1,50))\n",
    "print(lyst)\n",
    "print(selection_sort(lyst))"
   ]
  },
  {
   "cell_type": "markdown",
   "metadata": {},
   "source": [
    "- 时间复杂度：外循环n，内循环n，共O(n^2)\n",
    "- 空间复杂度：O(n)\n"
   ]
  },
  {
   "cell_type": "markdown",
   "metadata": {},
   "source": [
    "## 插入排序"
   ]
  },
  {
   "cell_type": "markdown",
   "metadata": {},
   "source": [
    "插入排序（英语：Insertion Sort）是一种简单直观的排序算法。它的工作原理是通过构建有序序列，对于未排序数据，在已排序序列中从后向前扫描，找到相应位置并插入。插入排序在实现上，在从后向前扫描过程中，需要反复把已排序元素逐步向后挪位，为最新元素提供插入空间。\n"
   ]
  },
  {
   "cell_type": "markdown",
   "metadata": {},
   "source": [
    "图解:\n",
    "![](images/Insertion-sort-example.gif)"
   ]
  },
  {
   "cell_type": "markdown",
   "metadata": {},
   "source": [
    "代码实现:"
   ]
  },
  {
   "cell_type": "code",
   "execution_count": 8,
   "metadata": {},
   "outputs": [],
   "source": [
    "def insertion_sort(lyst):\n",
    "    \"\"\"插入排序,假设lyst[0]是已排好的有序序列,后面的是未排序序列\"\"\"\n",
    "    for i in range(1, len(lyst)):\n",
    "#    从右边无序序列第一个元素开始\n",
    "        for j in range(i, 0, -1):\n",
    "#         跟左边有序序列倒序进行比较，若小则交换，并继续比较，否则不用比较，推出此轮\n",
    "            if lyst[j] < lyst[j-1]:\n",
    "                lyst[j-1], lyst[j] = lyst[j], lyst[j-1]\n",
    "            else:\n",
    "                break\n",
    "    return lyst"
   ]
  },
  {
   "cell_type": "code",
   "execution_count": 9,
   "metadata": {
    "scrolled": true
   },
   "outputs": [
    {
     "name": "stdout",
     "output_type": "stream",
     "text": [
      "[14, 1, 3, 5, 39, 23]\n",
      "[1, 3, 5, 14, 23, 39]\n"
     ]
    }
   ],
   "source": [
    "import random\n",
    "lyst = []\n",
    "for i in range(6):\n",
    "    lyst.append(random.randint(1,50))\n",
    "print(lyst)\n",
    "print(insertion_sort(lyst))"
   ]
  },
  {
   "cell_type": "markdown",
   "metadata": {},
   "source": [
    "插入排序演示:\n",
    "![](images/insert.gif)"
   ]
  },
  {
   "cell_type": "markdown",
   "metadata": {},
   "source": [
    "**算法分析:**  \n",
    "- 空间复杂度: 用到了i/j两个变量用于辅助定位和完成序列元素的置换,因此空间复杂度为 O(1)\n",
    "- 时间复杂度: 外层循环总是执行 n-1 次,考虑最坏情况,内层循环比较的次数逐渐增大,由 1 到 n-1. 因此总的时间复杂度为:\n",
    "1+2+...+(n-1)=n*(n-1)/2\n",
    "  \n",
    "- **算法稳定**"
   ]
  },
  {
   "cell_type": "markdown",
   "metadata": {},
   "source": [
    "## 希尔排序"
   ]
  },
  {
   "cell_type": "markdown",
   "metadata": {},
   "source": [
    "希尔排序(Shell Sort)是插入排序的一种。也称缩小增量排序，是直接插入排序算法的一种更高效的改进版本。希尔排序是非稳定排序算法。该方法因DL．Shell于1959年提出而得名。 希尔排序是把记录按下标的一定增量分组，对每组使用直接插入排序算法排序；随着增量逐渐减少，每组包含的关键词越来越多，当增量减至1时，整个文件恰被分成一组，算法便终止。\n"
   ]
  },
  {
   "cell_type": "markdown",
   "metadata": {},
   "source": [
    "## 希尔排序过程"
   ]
  },
  {
   "cell_type": "markdown",
   "metadata": {},
   "source": [
    "希尔排序的基本思想是：将数组列在一个表中并对列分别进行插入排序，重复这过程，不过每次用更长的列（步长更长了，列数更少了）来进行。最后整个表就只有一列了。将数组转换至表是为了更好地理解这算法，算法本身还是使用数组进行排序。  \n",
    "\n",
    "例如，假设有这样一组数[ 13 14 94 33 82 25 59 94 65 23 45 27 73 25 39 10 ]，如果我们以步长为5开始进行排序，我们可以通过将这列表放在有5列的表中来更好地描述算法，这样他们就应该看起来是这样(竖着的元素是步长组成)：\n",
    "> 13 14 94 33 82  \n",
    "25 59 94 65 23  \n",
    "45 27 73 25 39  \n",
    "10\n"
   ]
  },
  {
   "cell_type": "markdown",
   "metadata": {},
   "source": [
    "然后对每列进行排序:\n",
    "> 10 14 73 25 23  \n",
    "13 27 94 33 39  \n",
    "25 59 94 65 82  \n",
    "45  "
   ]
  },
  {
   "cell_type": "markdown",
   "metadata": {},
   "source": [
    "将上述四行数字，依序接在一起时我们得到：[ 10 14 73 25 23 13 27 94 33 39 25 59 94 65 82 45 ]。这时10已经移至正确位置了，然后再以3为步长进行排序：\n",
    "> 10 14 73  \n",
    "25 23 13  \n",
    "27 94 33  \n",
    "39 25 59  \n",
    "94 65 82  \n",
    "45"
   ]
  },
  {
   "cell_type": "markdown",
   "metadata": {},
   "source": [
    "排序之后变为:\n",
    "> 10 14 13  \n",
    "25 23 33  \n",
    "27 25 59  \n",
    "39 65 73  \n",
    "45 94 82  \n",
    "94\n",
    "  \n",
    "最后以1为步长进行排序(此时就是简单的插入排序)"
   ]
  },
  {
   "cell_type": "markdown",
   "metadata": {},
   "source": [
    "图解:\n",
    "![](images/shellsort.png)"
   ]
  },
  {
   "cell_type": "markdown",
   "metadata": {},
   "source": [
    "代码实现:"
   ]
  },
  {
   "cell_type": "code",
   "execution_count": 10,
   "metadata": {},
   "outputs": [],
   "source": [
    "def shell_sort(lyst):\n",
    "    \"\"\"shell排序，是改进的插入排序，又叫缩小增量排序\"\"\"\n",
    "    gap = lyst.__len__() // 2\n",
    "#     选取间隔\n",
    "    while gap > 0:\n",
    "#         按间隔进行插入排序, 控制插入算法执行次数\n",
    "        for i in range(gap, lyst.__len__()):\n",
    "            j = i\n",
    "#             插入排序\n",
    "            while j >= gap and lyst[j] < lyst[j-gap]:\n",
    "                lyst[j], lyst[j-gap] = lyst[j-gap], lyst[j]\n",
    "                j -= gap\n",
    "#        得到新的间隔 最后一次gap=1\n",
    "        gap //= 2\n",
    "    return lyst"
   ]
  },
  {
   "cell_type": "code",
   "execution_count": 11,
   "metadata": {},
   "outputs": [
    {
     "name": "stdout",
     "output_type": "stream",
     "text": [
      "[16, 14, 41, 28, 46, 7, 13, 44, 13, 43, 15, 8]\n",
      "[7, 8, 13, 13, 14, 15, 16, 28, 41, 43, 44, 46]\n"
     ]
    }
   ],
   "source": [
    "import random\n",
    "lyst = []\n",
    "for i in range(12):\n",
    "    lyst.append(random.randint(1,50))\n",
    "print(lyst)\n",
    "print(shell_sort(lyst))"
   ]
  },
  {
   "cell_type": "markdown",
   "metadata": {},
   "source": [
    "## shell算法分析"
   ]
  },
  {
   "cell_type": "markdown",
   "metadata": {},
   "source": [
    "- 时间复杂度: O(n^2)\n",
    "- 空间复杂度: O(1)\n",
    "- 不稳定"
   ]
  },
  {
   "cell_type": "markdown",
   "metadata": {},
   "source": [
    "## 快速排序"
   ]
  },
  {
   "cell_type": "markdown",
   "metadata": {},
   "source": [
    "快速排序（英语：Quicksort），又称划分交换排序（partition-exchange sort）, 是一种不稳定的排序算法.   \n",
    "\n",
    "**基本思想**  \n",
    "\n",
    "通过一趟排序将要排序的数据分割成独立的两部分，其中一部分的所有数据都比另外一部分的所有数据都要小，然后再按此方法对这两部分数据分别进行快速排序，整个排序过程可以递归进行，以此达到整个数据变成有序序列。\n"
   ]
  },
  {
   "cell_type": "markdown",
   "metadata": {},
   "source": [
    "步骤为：  \n",
    "1. 从数列中挑出一个元素，称为\"基准\"（pivot），\n",
    "2. 重新排序数列，所有元素比基准值小的摆放在基准前面，所有元素比基准值大的摆在基准的后面（相同的数可以到任一边）。在这个分区结束之后，该基准就处于数列的中间位置。这个称为分区（partition）操作。\n",
    "3. 递归地（recursive）把小于基准值元素的子数列和大于基准值元素的子数列排序。\n",
    "  \n",
    "递归的最底部情形，是数列的大小是零或一，也就是永远都已经被排序好了。虽然一直递归下去，但是这个算法总会结束，因为在每次的迭代（iteration）中，它至少会把一个元素摆到它最后的位置去。\n"
   ]
  },
  {
   "cell_type": "markdown",
   "metadata": {},
   "source": [
    "**按照这个思想,不考虑其他因素的话,下面的程序很简单实现了快排：**"
   ]
  },
  {
   "cell_type": "code",
   "execution_count": 12,
   "metadata": {},
   "outputs": [],
   "source": [
    "def quick_sort(lyst):\n",
    "    '''快速排序法1，将没有pivot大的所有元素放在less，\n",
    "    其他的放在higher，递归调用\n",
    "    '''\n",
    "    if len(lyst) <= 1:\n",
    "        return lyst\n",
    "    pivot = lyst[0]\n",
    "    less = [x for x in lyst[1:] if x <= pivot]\n",
    "    higher = [x for x in lyst[1:] if x > pivot]\n",
    "#     equal = [x for x in lyst if x == pivot]\n",
    "    return quick_sort(less) + [pivot] + quick_sort(higher)"
   ]
  },
  {
   "cell_type": "code",
   "execution_count": 13,
   "metadata": {},
   "outputs": [
    {
     "name": "stdout",
     "output_type": "stream",
     "text": [
      "[46, 8, 7, 3, 22, 10, 23, 38, 45, 14, 8, 33]\n",
      "[3, 7, 8, 8, 10, 14, 22, 23, 33, 38, 45, 46]\n"
     ]
    }
   ],
   "source": [
    "import random\n",
    "lyst = []\n",
    "for i in range(12):\n",
    "    lyst.append(random.randint(1,50))\n",
    "print(lyst)\n",
    "print(quick_sort(lyst))"
   ]
  },
  {
   "cell_type": "markdown",
   "metadata": {},
   "source": [
    "**但是, 一般而言, 快排尽可能想要在表的内部完成排序，尽可能少使用辅助空间。即通过在表内移动实现。**  \n",
    "\n",
    "这时, 可使用两个指针来遍历待排序的序列，根据两个指针遍历的方向可以分为两类：第一，两个指针从待排序序列的同一个方向遍历。第二，两个指针分别从带排序数组的两端进行遍历。下列的几种算法都可以归为这两类中的某类。"
   ]
  },
  {
   "cell_type": "markdown",
   "metadata": {},
   "source": [
    "## 表内移动之空穴法"
   ]
  },
  {
   "cell_type": "markdown",
   "metadata": {},
   "source": [
    "假设待排序的数组为a，快速排序算法最常见的做法是将第一个元素设置为主元元。设置两个指针low和high，它们分别指向待排序的数组的低和高位：\n",
    "\n",
    "1. high向左移动找小于主元的元素，找到后（找到的是a[high]）将其值存储在a[low]中，那么此时high所指的元素其实没有意义了，因为a[high]已经存储到了a[low]中，那么可以认为high所指的是空穴，该空穴将存储（2）中low指针找到的大于主元的元素。\n",
    "\n",
    "2. 然后low向右移动找大于主元元的元素，找到后（a[low]）将其存储在a[high]中（high指的是空穴），同样的，此时a[low]存的数没有意义了，因为该数已经存到了a[high]中，那么low所指的是空穴，该空穴存储下次high找到的小于主元的数。\n",
    "\n",
    "3. 当两个指针相遇时，上述循环终止，此时low指向空穴，将主元存入空穴。这就是一次递归过程。递归该过程。\n",
    "\n",
    "例如，对数组5 1 9 3 8 4 7进行排序，给出一次递归的过程："
   ]
  },
  {
   "cell_type": "markdown",
   "metadata": {},
   "source": [
    "![快排空穴法图解](images/快排空穴法.png)"
   ]
  },
  {
   "cell_type": "markdown",
   "metadata": {},
   "source": [
    "第1步：low指向5，high指向7。选取第一个元素5为枢纽pivot，则可以认为第一个元素处是空穴，即low指向空穴。\n",
    "\n",
    "第2步：high向左移动，找到了小于枢纽5的元素4，将这个元素存储到low所指的空穴中，此时，high所指的位置成了空穴。\n",
    "\n",
    "第3步：low向右移动，找到了大于枢纽5的元素9，将这个元素存储到high所指的空穴中，此时，low所指的位置成了空穴。\n",
    "\n",
    "第4步：重复第2步，high找到的小元素3存到了low所指的空穴中，high所指位置成为空穴。\n",
    "\n",
    "第5步：low指针此时仍小于high，所以low向右移动一次，此时vec[low]等于主元，low == high，那么内层第二个while循环将不再执行第二次。此时，low和high都指向空穴。外层while循环终止，将枢纽元素放入low所指的空穴。可以看到，该算法一趟排序后枢纽被放在了最终的位置上（这里的枢纽为5）。"
   ]
  },
  {
   "cell_type": "markdown",
   "metadata": {},
   "source": [
    "代码实现:"
   ]
  },
  {
   "cell_type": "code",
   "execution_count": 14,
   "metadata": {},
   "outputs": [],
   "source": [
    "def quick_sort(lyst, left, right):\n",
    "    \"\"\"快速排序法2 空穴法，双向移动，先从右边移动\"\"\"\n",
    "    if left >= right:\n",
    "        return\n",
    "    pivot = lyst[left]\n",
    "#     pivot存放每趟的主元\n",
    "    low = left\n",
    "    high = right\n",
    "    while low < high:\n",
    "#         循环终止条件，low和high重叠\n",
    "        while low < high and lyst[high] >= pivot:\n",
    "#         high找到第一个没pivot大的元素，将其赋值给lyst[low]\n",
    "#         第一趟，lyst[low]已赋值给pivot，可以被覆盖\n",
    "            high -= 1\n",
    "        lyst[low] = lyst[high]\n",
    "        \n",
    "        while low < high and lyst[low] < pivot:\n",
    "#        low找到第一个比pivot小的元素，将其赋值给lyst[high]\n",
    "#        每一趟 都这样交叉赋值     \n",
    "            low += 1\n",
    "        lyst [high] = lyst[low]\n",
    "#     退出循环后，low的指向即为pivot应当所在的位置\n",
    "    lyst[low] = pivot \n",
    "#     然后对low左边的和右边的递归调用\n",
    "    quick_sort(lyst, left, low-1)\n",
    "    quick_sort(lyst, low+1, right)\n",
    "#     return lyst"
   ]
  },
  {
   "cell_type": "code",
   "execution_count": 15,
   "metadata": {
    "scrolled": false
   },
   "outputs": [
    {
     "name": "stdout",
     "output_type": "stream",
     "text": [
      "[50, 1, 16, 22, 32, 28, 12, 44, 21, 20, 9, 36]\n",
      "[1, 9, 12, 16, 20, 21, 22, 28, 32, 36, 44, 50]\n"
     ]
    }
   ],
   "source": [
    "import random\n",
    "lyst = []\n",
    "for i in range(12):\n",
    "    lyst.append(random.randint(1,50))\n",
    "print(lyst)\n",
    "quick_sort(lyst, 0, len(lyst)-1)\n",
    "print(lyst)"
   ]
  },
  {
   "cell_type": "markdown",
   "metadata": {},
   "source": [
    "**演示:**\n",
    "![快速排序演示](images/quicksort.gif)"
   ]
  },
  {
   "cell_type": "markdown",
   "metadata": {},
   "source": [
    "### 算法分析"
   ]
  },
  {
   "cell_type": "markdown",
   "metadata": {},
   "source": [
    "**时间复杂度:**  \n",
    "- 最优时间复杂度: O(nlogn)\n",
    "- 最坏时间复杂度: O(n^2)\n"
   ]
  },
  {
   "cell_type": "markdown",
   "metadata": {},
   "source": [
    "从一开始快速排序平均需要花费O(n log n)时间的描述并不明显。但是不难观察到的是分区运算，数组的元素都会在每次循环中走访过一次，使用O(n)的时间。在使用结合（concatenation）的版本中，这项运算也是O(n)。  \n",
    "\n",
    "在最好的情况，每次我们运行一次分区，我们会把一个数列分为两个几近相等的片段。这个意思就是每次递归调用处理一半大小的数列。因此，在到达大小为一的数列前，我们只要作log n次嵌套的调用。这个意思就是调用树的深度是O(log n)。但是在同一层次结构的两个程序调用中，不会处理到原来数列的相同部分；因此，程序调用的每一层次结构总共全部仅需要O(n)的时间（每个调用有某些共同的额外耗费，但是因为在每一层次结构仅仅只有O(n)个调用，这些被归纳在O(n)系数中）。结果是这个算法仅需使用O(n log n)时间。\n",
    "\n"
   ]
  },
  {
   "cell_type": "markdown",
   "metadata": {},
   "source": [
    "## Hoare法快排"
   ]
  },
  {
   "cell_type": "markdown",
   "metadata": {},
   "source": [
    "这里给出Hoare提出的快速排序算法，其思想与空穴法的类似，也是两个指针low和high分别指向待排序数组的低位和高位，首先由low向右遍历找大于枢纽的、然后high向左遍历找小于枢纽的，只是这里是当找到了就将a[low]和a[high]交换，而不是产生空穴。\n",
    "\n",
    "代码实现: (目前未实现Python版本)"
   ]
  },
  {
   "cell_type": "code",
   "execution_count": null,
   "metadata": {},
   "outputs": [],
   "source": [
    "'''c\n",
    "template<typename T>\n",
    "void SwapQuickSort(T &a, T &b) {\n",
    "    T temp = a;\n",
    "    a = b;\n",
    "    b = temp;\n",
    "}\n",
    " \n",
    "template<typename T>\n",
    "int PartionQuickSort2(vector<T> &vec, int left, int right) {\n",
    "    T pivot = vec[left];\n",
    "    int low = left - 1;\n",
    "    int high = right  + 1;\n",
    "    for (; ;) {\n",
    "        do {\n",
    "            high--;\n",
    "        }while (vec[high] > pivot);  //这里没有等于，见“对比版本二和版本三”的下边分析        \n",
    "        do {\n",
    "            low++;\n",
    "        }while (vec[low] < pivot); //这里没有等于，见“对比版本二和版本三”的下边分析\n",
    "        /*这里的循环是错误的，当某元素等于pivot时会死循环\n",
    "        while (vec[high] > pivot)\n",
    "            high--;\n",
    "        while (vec[low] < pivot)\n",
    "            low++;\n",
    "        */\n",
    "        if (low < high)\n",
    "            SwapQuickSort(vec[low], vec[high]);\n",
    "        else\n",
    "            return high;\n",
    "    }\n",
    "}\n",
    " \n",
    "template<typename T>\n",
    "void QuickSort2(vector<T> &vec, int left, int right) {\n",
    "    if (left < right) {\n",
    "        int partion = PartionQuickSort2(vec, left, right);\n",
    "        QuickSort2(vec, left, partion);\n",
    "        /*\n",
    "        注意上一行与版本一不同，不是QuickSort2(vec, left, partion - 1)\n",
    "        因为版本一中每次排序后会将枢纽pivot放在最终的位置上，但是该算法\n",
    "        只保证每次排序后枢纽位于待排序数组的有半部分，不保证pivot在最终\n",
    "        的位置上，因此要将Partion所指的位置加入下一次排序\n",
    "        */\n",
    "        QuickSort2(vec, partion + 1, right);\n",
    "    }\n",
    "}\n",
    "'''"
   ]
  },
  {
   "cell_type": "code",
   "execution_count": 17,
   "metadata": {},
   "outputs": [],
   "source": [
    "# def partition(lyst, start, end):\n",
    "#     left = start\n",
    "#     right = end\n",
    "#     pivot = lyst[start]\n",
    "#     while 1:\n",
    "#         left += 1\n",
    "#         while lyst[left] < pivot:\n",
    "#             left += 1\n",
    "#         while lyst[right] > pivot:\n",
    "#             right -= 1\n",
    "            \n",
    "#         if left>=right:\n",
    "#             return right\n",
    "#         lyst[left], lyst[right] = lyst[right],lyst[left]\n",
    "# def quick_sort(lst, start, end):\n",
    "#     '''双向移动，直接交换，先从左移'''\n",
    "# #     从左开始寻找第一个不小于主元的值的索引i，\n",
    "# #     然后从右开始寻找第一个大于主元的值的索引j，然后交换位置，继续\n",
    "#     if start<end:\n",
    "#         p = partition(lyst, start, end)\n",
    "#         quick_sort(lyst, start, p)\n",
    "#         quick_sort(lyst, p+1, end)\n"
   ]
  },
  {
   "cell_type": "code",
   "execution_count": 18,
   "metadata": {
    "scrolled": true
   },
   "outputs": [],
   "source": [
    "# import random\n",
    "# lyst = []\n",
    "# for i in range(12):\n",
    "#     lyst.append(random.randint(1,50))\n",
    "# print(lyst)\n",
    "# quick_sort(lyst, 0, len(lyst)-1)\n",
    "# print(lyst)"
   ]
  },
  {
   "cell_type": "markdown",
   "metadata": {},
   "source": [
    "## 表内移动之单向划分"
   ]
  },
  {
   "cell_type": "markdown",
   "metadata": {},
   "source": [
    "**该算法与上边算法最大的不同是**：该算法的low和high元素都是从下标 0 开始向后移动，取主元仍是第一个元素。在排序中，**low指向已经排序的、小于枢纽的元素的最后位置（那么low的右侧下一个位置就是大于主元的了）**，high指向待排序的数组，当high找到了一个小于主元的位置，则将low加1（此时low指向了大于或等于主元的第一个位置），然后将low和high所指的位置元素交换；交换后low所指的元素小于主元（此时，low的右侧仍是大于或等于主元的第一个元素的位置），high所指的值大于枢纽，high继续循环。迭代结束后将low指向元素和主元交换位置即完成排序.  \n",
    "\n",
    "代码实现: \n",
    "\n"
   ]
  },
  {
   "cell_type": "code",
   "execution_count": 19,
   "metadata": {},
   "outputs": [],
   "source": [
    "def quick_sort(lyst, begin, end):\n",
    "    '''快速排序，单向向右移动，i始终指向最后一个小于主元的下标\n",
    "    j指向未处理的下标，迭代结束后将i指向元素和主元交换位置即可'''\n",
    "    if begin >= end:\n",
    "        return\n",
    "    pivot = lyst[begin]\n",
    "    i = begin\n",
    "    for j in range(begin + 1, end + 1):\n",
    "        if lyst[j] < pivot:\n",
    "            i += 1\n",
    "            lyst[i], lyst[j] = lyst[j], lyst[i]\n",
    "    lyst[begin], lyst[i] = lyst[i], lyst[begin]\n",
    "    quick_sort(lyst, begin, i - 1)\n",
    "    quick_sort(lyst, i + 1, end)\n"
   ]
  },
  {
   "cell_type": "code",
   "execution_count": 20,
   "metadata": {
    "scrolled": true
   },
   "outputs": [
    {
     "name": "stdout",
     "output_type": "stream",
     "text": [
      "[18, 33, 6, 39, 36, 10, 12, 40, 35, 10, 15, 25]\n",
      "[6, 10, 10, 12, 15, 18, 25, 33, 35, 36, 39, 40]\n"
     ]
    }
   ],
   "source": [
    "import random\n",
    "lyst = []\n",
    "for i in range(12):\n",
    "    lyst.append(random.randint(1,50))\n",
    "print(lyst)\n",
    "quick_sort(lyst, 0, len(lyst)-1)\n",
    "print(lyst)"
   ]
  },
  {
   "cell_type": "markdown",
   "metadata": {},
   "source": [
    "##   归并排序"
   ]
  },
  {
   "cell_type": "markdown",
   "metadata": {},
   "source": [
    "归并排序是采用分治法的一个非常典型的应用。归并排序的思想就是先递归分解数组，再合并数组。  \n",
    "\n",
    "将数组分解最小之后，然后合并两个有序数组，基本思路是比较两个数组的最前面的数，谁小就先取谁，取了后相应的指针就往后移一位。然后再比较，直至一个数组为空，最后把另一个数组的剩余部分复制过来即可。  \n",
    "\n",
    "图解归并排序:"
   ]
  },
  {
   "cell_type": "markdown",
   "metadata": {},
   "source": [
    "![归并排序示例](images/Merge-sort-example.gif)"
   ]
  },
  {
   "cell_type": "markdown",
   "metadata": {},
   "source": [
    "代码实现:"
   ]
  },
  {
   "cell_type": "code",
   "execution_count": 21,
   "metadata": {},
   "outputs": [],
   "source": [
    "def merge_sort(lyst):\n",
    "    '''归并排序'''\n",
    "#     将lyst分解到只有一个元素，然后合并两个有序数组\n",
    "    if len(lyst) <= 1:\n",
    "        return lyst\n",
    "#     采用归并排序后形成的有序的新的左边的列表\n",
    "    left_lyst = merge_sort(lyst[:len(lyst)//2])\n",
    "#     采用归并排序后形成的有序的新的右边的列表\n",
    "    right_lyst = merge_sort(lyst[len(lyst)//2:])\n",
    "#     将有序的left_lyst和fight_lyst合并成一个新的列表\n",
    "    return merge(left_lyst, right_lyst)\n",
    "\n",
    "def merge(left_lyst, right_lyst):\n",
    "    '''合并算法,均从下标0开始比较左右两个有序列表\n",
    "    谁小就先将其放入新列表,然后响应的指针后移,直至\n",
    "    一个列表为空,把另一个列表全部添加至新列表即可.\n",
    "    '''\n",
    "#     两列表的开始下标\n",
    "    left, right = 0, 0\n",
    "#     新的结果列表\n",
    "    res = []\n",
    "#     终止条件是一个列表为空\n",
    "    while left < len(left_lyst) and right < len(right_lyst):\n",
    "        if left_lyst[left] < right_lyst[right]:\n",
    "            res.append(left_lyst[left])\n",
    "            left += 1\n",
    "        else:\n",
    "            res.append(right_lyst[right])\n",
    "            right += 1\n",
    "#     终止循坏后,将非空列表整体添加至结果列表\n",
    "    res += left_lyst[left:]\n",
    "    res += right_lyst[right:]\n",
    "    return res"
   ]
  },
  {
   "cell_type": "code",
   "execution_count": 22,
   "metadata": {},
   "outputs": [
    {
     "name": "stdout",
     "output_type": "stream",
     "text": [
      "[46, 24, 47, 18, 45, 14, 35, 47, 31, 26, 22, 49]\n",
      "[14, 18, 22, 24, 26, 31, 35, 45, 46, 47, 47, 49]\n"
     ]
    }
   ],
   "source": [
    "import random\n",
    "lyst = []\n",
    "for i in range(12):\n",
    "    lyst.append(random.randint(1,50))\n",
    "print(lyst)\n",
    "print(merge_sort(lyst))"
   ]
  },
  {
   "cell_type": "markdown",
   "metadata": {},
   "source": [
    "## 归并算法分析"
   ]
  },
  {
   "cell_type": "markdown",
   "metadata": {},
   "source": [
    "首先，考虑时间复杂度。  \n",
    "第 k 遍归并后，有序子序列的长度为2^k。因此共需要做 O(logn) 次归并。每次归并中，共需要做 O(n) 次比较。  \n",
    "因此，总的时间复杂度为O(nlogn)。"
   ]
  },
  {
   "cell_type": "markdown",
   "metadata": {},
   "source": [
    "空间复杂度: 由于以上算法使用了辅助表, 它与原序列长度相同. 因此空间复杂度为 O(n). 这是归并排序算法的主要弱点."
   ]
  },
  {
   "cell_type": "markdown",
   "metadata": {},
   "source": [
    "# 常见排序算法比较"
   ]
  },
  {
   "cell_type": "markdown",
   "metadata": {},
   "source": [
    "![常见排序算法比较](images/排序比较.jpg)"
   ]
  }
 ],
 "metadata": {
  "kernelspec": {
   "display_name": "Python 3",
   "language": "python",
   "name": "python3"
  },
  "language_info": {
   "codemirror_mode": {
    "name": "ipython",
    "version": 3
   },
   "file_extension": ".py",
   "mimetype": "text/x-python",
   "name": "python",
   "nbconvert_exporter": "python",
   "pygments_lexer": "ipython3",
   "version": "3.6.4"
  }
 },
 "nbformat": 4,
 "nbformat_minor": 2
}
