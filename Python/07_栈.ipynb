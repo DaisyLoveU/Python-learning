{
 "cells": [
  {
   "cell_type": "markdown",
   "metadata": {},
   "source": [
    "# 栈 stack"
   ]
  },
  {
   "cell_type": "markdown",
   "metadata": {},
   "source": [
    "<font size = '4' face='楷体'>\n",
    "    栈（stack）,有些地方称为堆栈，是一种容器，可存入数据元素、访问元素、删除元素，他的特点在于智能允许在容器的一端（称为栈顶端指标，英语：top）进行加入数据（英语：push）和输出数据（英语：pop）的运算。没有看位置概念，保证任何时候可以访问、删除的元素都是此前最后存入的那个元素，确定了一种默认的访问顺序。  \n",
    "        \n",
    "        \n",
    "      \n",
    "    由于栈数据结构只允许在一端进行操作，因而按照后进先出（LIFO）的原理运作。\n",
    "</font>"
   ]
  },
  {
   "cell_type": "markdown",
   "metadata": {},
   "source": [
    "<img height=300, src='images/栈.png'/>"
   ]
  },
  {
   "cell_type": "markdown",
   "metadata": {},
   "source": [
    "# 栈结构实现"
   ]
  },
  {
   "cell_type": "markdown",
   "metadata": {},
   "source": [
    "<font size='4' face='楷体'>\n",
    "    栈可以用顺序表实现，也可以用链表实现。\n",
    "    </font>"
   ]
  },
  {
   "cell_type": "markdown",
   "metadata": {},
   "source": [
    "## 栈的操作"
   ]
  },
  {
   "cell_type": "markdown",
   "metadata": {},
   "source": [
    "<font size=4 face=楷体>\n",
    "- Stack()创建一个新的空栈  \n",
    "- push(item)添加一个新元素item到栈顶  \n",
    "- pop()弹出栈顶元素  \n",
    "- peek()返回栈顶元素  \n",
    "- is_empty()判断栈是否为空  \n",
    "- size()返回栈的元素个数  \n",
    "</font>"
   ]
  },
  {
   "cell_type": "markdown",
   "metadata": {},
   "source": [
    "<font size=4 face=楷体>\n",
    "下面用列表来实现栈    \n",
    "    </font>"
   ]
  },
  {
   "cell_type": "code",
   "execution_count": 5,
   "metadata": {},
   "outputs": [],
   "source": [
    "class Stack():\n",
    "    \"\"\"栈\"\"\"\n",
    "    def __init__(self):\n",
    "        self.__list = []\n",
    "        \n",
    "    def is_empty(self):\n",
    "        return not self.__list\n",
    "    \n",
    "    def push(self, item):\n",
    "        self.__list.append(item)\n",
    "        \n",
    "    def pop(self):\n",
    "        return self.__list.pop()\n",
    "        \n",
    "    def peek(self):\n",
    "        return self.__list[-1]\n",
    "    \n",
    "    def size(self):\n",
    "        return self.__list.__len__()"
   ]
  },
  {
   "cell_type": "code",
   "execution_count": 10,
   "metadata": {},
   "outputs": [
    {
     "name": "stdout",
     "output_type": "stream",
     "text": [
      "3\n",
      "itcast\n",
      "itcast\n",
      "world\n",
      "hello\n"
     ]
    }
   ],
   "source": [
    "if __name__ == \"__main__\":\n",
    "    stack = Stack()\n",
    "    stack.push(\"hello\")\n",
    "    stack.push(\"world\")\n",
    "    stack.push(\"itcast\")\n",
    "    print(stack.size())\n",
    "    print(stack.peek())\n",
    "    print(stack.pop())\n",
    "    print(stack.pop())\n",
    "    print(stack.pop())"
   ]
  },
  {
   "cell_type": "code",
   "execution_count": null,
   "metadata": {},
   "outputs": [],
   "source": []
  }
 ],
 "metadata": {
  "kernelspec": {
   "display_name": "Python 3",
   "language": "python",
   "name": "python3"
  },
  "language_info": {
   "codemirror_mode": {
    "name": "ipython",
    "version": 3
   },
   "file_extension": ".py",
   "mimetype": "text/x-python",
   "name": "python",
   "nbconvert_exporter": "python",
   "pygments_lexer": "ipython3",
   "version": "3.6.4"
  }
 },
 "nbformat": 4,
 "nbformat_minor": 2
}
