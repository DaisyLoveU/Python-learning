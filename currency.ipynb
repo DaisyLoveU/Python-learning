{
  "nbformat": 4,
  "nbformat_minor": 0,
  "metadata": {
    "colab": {
      "name": "currency.ipynb",
      "version": "0.3.2",
      "provenance": [],
      "collapsed_sections": [],
      "include_colab_link": true
    },
    "kernelspec": {
      "name": "python3",
      "display_name": "Python 3"
    }
  },
  "cells": [
    {
      "cell_type": "markdown",
      "metadata": {
        "id": "view-in-github",
        "colab_type": "text"
      },
      "source": [
        "<a href=\"https://colab.research.google.com/github/DaisyLoveU/Python-learning/blob/master/currency.ipynb\" target=\"_parent\"><img src=\"https://colab.research.google.com/assets/colab-badge.svg\" alt=\"Open In Colab\"/></a>"
      ]
    },
    {
      "cell_type": "code",
      "metadata": {
        "id": "yZtB-8gF6NTd",
        "colab_type": "code",
        "colab": {}
      },
      "source": [
        "\n",
        "from decimal import Decimal\n",
        "\n",
        "def cncurrency(value, capital=True, prefix=False, classical=None):\n",
        "\n",
        "    if classical is None:\n",
        "        classical = True if capital else False\n",
        "        \n",
        "    if prefix is True:\n",
        "        prefix = '人民币'\n",
        "    else:\n",
        "        prefix = ''\n",
        "        \n",
        "    dunit = ('角', '分')\n",
        "    if capital:\n",
        "        num = ('零', '壹', '贰', '叁', '肆', '伍', '陆', '柒', '捌', '玖')\n",
        "        iunit = [None, '拾', '佰', '仟', '万', '拾', '佰', '仟','亿', '拾', '佰', '仟', '万', '拾', '佰', '仟']\n",
        "    else:\n",
        "        num = ('〇', '一', '二', '三', '四', '五', '六', '七', '八', '九')\n",
        "        iunit = [None, '十', '百', '千', '万', '十', '百', '千','亿', '十', '百', '千', '万', '十', '百', '千']\n",
        "    if classical:\n",
        "        iunit[0] = '元' if classical else '圆'\n",
        "\n",
        "    if not isinstance(value, Decimal):\n",
        "        value = Decimal(value).quantize(Decimal('0.01'))\n",
        "\n",
        "    if value < 0:\n",
        "        prefix += '负'          \n",
        "        value = - value       \n",
        "                               \n",
        "    s = str(value)\n",
        "    if len(s) > 19:\n",
        "        return\n",
        "    istr, dstr = s.split('.')          \n",
        "    istr = istr[::-1]                  \n",
        "    so = []    \n",
        "    \n",
        "    if value == 0:\n",
        "        return prefix + num[0] + iunit[0]\n",
        "    haszero = False    \n",
        "    if dstr == '00':\n",
        "        haszero = True  \n",
        "        \n",
        "    if dstr[1] != '0':\n",
        "        so.append(dunit[1])\n",
        "        so.append(num[int(dstr[1])])\n",
        "    else:\n",
        "        so.append('整')         \n",
        "\n",
        "    if dstr[0] != '0':\n",
        "        so.append(dunit[0])\n",
        "        so.append(num[int(dstr[0])])\n",
        "    elif dstr[1] != '0':\n",
        "        so.append(num[0])       \n",
        "        haszero = True          \n",
        "        \n",
        "    if istr == '0':\n",
        "        if haszero:            \n",
        "            so.pop()\n",
        "        so.append(prefix)       \n",
        "        so.reverse()            \n",
        "        return ''.join(so)\n",
        "\n",
        "    for i, n in enumerate(istr):\n",
        "        n = int(n)\n",
        "        if i % 4 == 0:          \n",
        "            if i == 8 and so[-1] == iunit[4]:  \n",
        "                so.pop()                       \n",
        "            so.append(iunit[i])\n",
        "            if n == 0:                         \n",
        "                if not haszero:                 \n",
        "                    so.insert(-1, num[0])       \n",
        "                    haszero = True              \n",
        "            else:                               \n",
        "                so.append(num[n])\n",
        "                haszero = False                 \n",
        "        else:                                   \n",
        "            if n != 0:                          \n",
        "                so.append(iunit[i])\n",
        "                so.append(num[n])\n",
        "                haszero = False                 \n",
        "            else:                               \n",
        "                if not haszero:                 \n",
        "                    so.append(num[0])\n",
        "                    haszero = True\n",
        "\n",
        "    so.append(prefix)\n",
        "    so.reverse()\n",
        "    return ''.join(so)\n"
      ],
      "execution_count": 0,
      "outputs": []
    },
    {
      "cell_type": "code",
      "metadata": {
        "id": "s3qK0xFA6PmO",
        "colab_type": "code",
        "colab": {
          "base_uri": "https://localhost:8080/",
          "height": 50
        },
        "outputId": "5765dc52-10e1-4c27-c55b-2d39be5ad723"
      },
      "source": [
        "\n",
        "i=input('请输入金额：')\n",
        "print (cncurrency(i))\n"
      ],
      "execution_count": 8,
      "outputs": [
        {
          "output_type": "stream",
          "text": [
            "请输入金额：123456789123456\n",
            "壹佰贰拾叁万肆仟伍佰陆拾柒亿捌仟玖佰壹拾贰万叁仟肆佰伍拾陆元整\n"
          ],
          "name": "stdout"
        }
      ]
    },
    {
      "cell_type": "code",
      "metadata": {
        "id": "xi5Y3LmP8gQG",
        "colab_type": "code",
        "colab": {}
      },
      "source": [
        ""
      ],
      "execution_count": 0,
      "outputs": []
    }
  ]
}