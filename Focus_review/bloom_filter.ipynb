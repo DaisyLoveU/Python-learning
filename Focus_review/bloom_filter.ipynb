{
 "cells": [
  {
   "cell_type": "markdown",
   "metadata": {},
   "source": [
    "### 给出两个文件A、B，各存放50亿条url，每条url占64字节，内存限制15G，找出共有的url。  \n",
    "\n",
    "**思路：**  \n",
    "bloom过滤器，在需要查找、查重时，bloom filter 使得搜索时间在O(1)  \n",
    "缺点：存在误报"
   ]
  },
  {
   "cell_type": "code",
   "execution_count": null,
   "metadata": {},
   "outputs": [],
   "source": [
    "# 对于50亿个url，使用误报率为1%的bloom filter，每个元素需9.6bits，总计50*（10**8）*9.6= 6G\n",
    "from pybloom_live import BloomFilter\n",
    "bloom_A = BloomFilter(capacity = 50*(10**8), error_rate = 0.01)\n",
    "with open(file_A) as f1:\n",
    "    for it in f1:\n",
    "        bloom_A.add(it)\n",
    "\n",
    "with open(file_B) as f2:\n",
    "    fir it in f2:\n",
    "        if it in bloom_A:\n",
    "            print(it)"
   ]
  }
 ],
 "metadata": {
  "kernelspec": {
   "display_name": "Python 3",
   "language": "python",
   "name": "python3"
  },
  "language_info": {
   "codemirror_mode": {
    "name": "ipython",
    "version": 3
   },
   "file_extension": ".py",
   "mimetype": "text/x-python",
   "name": "python",
   "nbconvert_exporter": "python",
   "pygments_lexer": "ipython3",
   "version": "3.6.4"
  }
 },
 "nbformat": 4,
 "nbformat_minor": 2
}
