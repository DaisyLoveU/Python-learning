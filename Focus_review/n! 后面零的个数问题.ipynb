{
 "cells": [
  {
   "cell_type": "markdown",
   "metadata": {},
   "source": [
    "## 求n！末尾有多少个零问题 "
   ]
  },
  {
   "cell_type": "markdown",
   "metadata": {},
   "source": [
    "公式为：  \n",
    "> n! 末尾0的个数 = ![](https://github.com/DaisyLoveU/Python-learning/blob/master/Python/images/CodeCogsEqn.png)  \n",
    " 式中，N取 5^i 不大于n的正整数, [*]表示取整  \n",
    "\n",
    "由 2*5 = 10，末尾0的个数即为因子2或5的个数  \n",
    "\n",
    "n! 的标准分解式中 2的个数 >= 5的个数，所以关注5的个数即可.  \n",
    "\n",
    "即，n! 的标准分解式中5的个数决定其末尾0的个数，可得上述公式。  \n",
    "\n"
   ]
  },
  {
   "cell_type": "markdown",
   "metadata": {},
   "source": [
    "例题：2015!后面有几个0?  \n",
    "\n",
    "N <= (lg2015) / lg(5) =4.7 ,则N取4  \n",
    "\n",
    "2015!末尾0的个数 = [2015/5] + [2015/25] + [2015/125] + [2015/625] = 502"
   ]
  }
 ],
 "metadata": {
  "kernelspec": {
   "display_name": "Python 3",
   "language": "python",
   "name": "python3"
  },
  "language_info": {
   "codemirror_mode": {
    "name": "ipython",
    "version": 3
   },
   "file_extension": ".py",
   "mimetype": "text/x-python",
   "name": "python",
   "nbconvert_exporter": "python",
   "pygments_lexer": "ipython3",
   "version": "3.6.4"
  }
 },
 "nbformat": 4,
 "nbformat_minor": 2
}
