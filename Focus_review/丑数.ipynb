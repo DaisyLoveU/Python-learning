{
 "cells": [
  {
   "cell_type": "code",
   "execution_count": 13,
   "metadata": {},
   "outputs": [
    {
     "name": "stdout",
     "output_type": "stream",
     "text": [
      "12\n"
     ]
    }
   ],
   "source": [
    "def findKthUgly(k):\n",
    "    '''得到第n个丑数'''\n",
    "    '''思想：从丑数出发*2，*3，*5计算后面的丑数，每次竞争上岗，将\n",
    "    最小的值加入丑数列表，只是需要想办法找到比当前list中最大丑数\n",
    "    大的第一个丑数，利用index2，index3，index5来维护每个数*2，*3，*5\n",
    "    加入list，如果ugly[index2]*2加入list就将index2指向下一个丑数，以此类推。'''\n",
    "    ugly = []\n",
    "    ugly.append(1)\n",
    "    index,index2,index3,index5 = 1,0,0,0\n",
    "    while index < k:\n",
    "        val = min(ugly[index2]*2, ugly[index3]*3, ugly[index5]*5)\n",
    "        if ugly[index2]*2 == val:\n",
    "            index2 += 1\n",
    "        if ugly[index3]*3 == val:\n",
    "            index3 += 1\n",
    "        if ugly[index5]*5 == val:\n",
    "            index5 += 1\n",
    "        ugly.append(val)\n",
    "        index += 1\n",
    "    return ugly[-1]\n",
    "\n",
    "print(findKthUgly(10))"
   ]
  }
 ],
 "metadata": {
  "kernelspec": {
   "display_name": "Python 3",
   "language": "python",
   "name": "python3"
  },
  "language_info": {
   "codemirror_mode": {
    "name": "ipython",
    "version": 3
   },
   "file_extension": ".py",
   "mimetype": "text/x-python",
   "name": "python",
   "nbconvert_exporter": "python",
   "pygments_lexer": "ipython3",
   "version": "3.6.4"
  }
 },
 "nbformat": 4,
 "nbformat_minor": 2
}
