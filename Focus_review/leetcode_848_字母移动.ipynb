{
 "cells": [
  {
   "cell_type": "markdown",
   "metadata": {},
   "source": [
    "## 848. 字母移位\n",
    "\n",
    "  \n",
    "题目：一个由小写字母组成的字符串 S，和一个整数数组 shifts。\n",
    "\n",
    "我们将字母表中的下一个字母称为原字母的 移位（由于字母表是环绕的， 'z' 将会变成 'a'）。\n",
    "\n",
    "例如·，shift('a') = 'b'， shift('t') = 'u'， 以及 shift('z') = 'a'。\n",
    "\n",
    "对于每个 shifts[i] = x ， 我们会将 S 中的前 i+1 个字母移位 x 次。\n",
    "\n",
    "返回将所有这些移位都应用到 S 后最终得到的字符串.  \n",
    "\n",
    "**示例：**  \n",
    "> **输入**：S = \"abc\", shifts = [3,5,9]  \n",
    "**输出**：\"rpl\"  \n",
    "**解释**：   \n",
    "我们以 \"abc\" 开始。  \n",
    "将 S 中的第 1 个字母移位 3 次后，我们得到 \"dbc\"。  \n",
    "再将 S 中的前 2 个字母移位 5 次后，我们得到 \"igc\"。  \n",
    "最后将 S 中的这 3 个字母移位 9 次后，我们得到答案 \"rpl\"。  \n",
    "\n",
    "\n",
    "**提示：**  \n",
    "&nbsp;1. 1 <= S.length = shifts.length <= 20000  \n",
    "&nbsp;2. 0 <= shifts[i] <= 10 ^ 9\n",
    "***"
   ]
  },
  {
   "cell_type": "markdown",
   "metadata": {},
   "source": [
    "题意理解：  \n",
    "S[0]要移动次数为：sum(shifts[0:])  \n",
    "S[1]要移动次数为：sum(shifts[1:])  \n",
    ".  \n",
    ".  \n",
    ".  \n",
    "S[-1]要移动次数为：sum(shifts[-1:])  \n",
    "\n",
    "即，可以先通过shifts求出成S[i]要移动的次数shifts[i]  \n",
    "将字母串转化成对应ascii值的列表，用索引遍历 S 和 shifts,   \n",
    "使用 S[i] 移动的次数 shifts[i] 来更新移动后的 S[i],  \n",
    "最后将 S[i] 列表转化为字母，整合成字符串返回。  \n",
    "\n",
    "\n",
    "第一次思路代码："
   ]
  },
  {
   "cell_type": "code",
   "execution_count": 5,
   "metadata": {},
   "outputs": [
    {
     "data": {
      "text/plain": [
       "'jyh'"
      ]
     },
     "execution_count": 5,
     "metadata": {},
     "output_type": "execute_result"
    }
   ],
   "source": [
    "def shiftingLetters(S, shifts):\n",
    "    \"\"\"\n",
    "    :type S: str\n",
    "    :type shifts: List[int]\n",
    "    :rtype: str\n",
    "    \"\"\"\n",
    "    S = list(map(ord, S))\n",
    "\n",
    "    for i in range(len(S)):\n",
    "        shifts[i] = sum(shifts[i:])\n",
    "\n",
    "    for i in range(len(S)):\n",
    "        S[i] = (S[i] + shifts[i] - 97) % 26 + 97\n",
    "\n",
    "    return ''.join(list(map(chr, S)))\n",
    "\n",
    "shiftingLetters('bad', [10, 20, 30])"
   ]
  },
  {
   "cell_type": "markdown",
   "metadata": {},
   "source": [
    "**出现了超时现象！！！**  \n",
    "问题出在求 S[i] 的移动次数 shifts[i] 上。  \n",
    "shifts[i] = sum(shifts[i:]) ，平均复杂度 O(n^2)  \n",
    "\n",
    "解决办法:   \n",
    "**最后都是要对26取余，根据余数的性质，可以对 shifts[i] %= 26，降低参与运算的数的大小，然后再通过由后至前两两累加，减少加法运算次数，这样求移动次数时的复杂度降为 O(n)，即ac**"
   ]
  },
  {
   "cell_type": "code",
   "execution_count": 6,
   "metadata": {},
   "outputs": [],
   "source": [
    "def shiftingLetters(self, S, shifts):\n",
    "    \"\"\"\n",
    "    :type S: str\n",
    "    :type shifts: List[int]\n",
    "    :rtype: str\n",
    "    \"\"\"\n",
    "    S = list(map(ord, S))\n",
    "    shifts = list(map(lambda x: x % 26, shifts))\n",
    "\n",
    "    for i in range(len(S)-2, -1, -1):\n",
    "        shifts[i] = (shifts[i] + shifts[i+1])%26\n",
    "\n",
    "    for i in range(len(S)):\n",
    "        S[i] = (S[i] + shifts[i] - 97) % 26 + 97\n",
    "\n",
    "    return ''.join(list(map(chr, S)))"
   ]
  },
  {
   "cell_type": "markdown",
   "metadata": {},
   "source": [
    "很简单的代码即可ac  \n",
    "感悟：问题出在了超时，就要考虑步骤中的复杂度，想方设法减少复杂度"
   ]
  }
 ],
 "metadata": {
  "kernelspec": {
   "display_name": "Python 3",
   "language": "python",
   "name": "python3"
  },
  "language_info": {
   "codemirror_mode": {
    "name": "ipython",
    "version": 3
   },
   "file_extension": ".py",
   "mimetype": "text/x-python",
   "name": "python",
   "nbconvert_exporter": "python",
   "pygments_lexer": "ipython3",
   "version": "3.6.4"
  }
 },
 "nbformat": 4,
 "nbformat_minor": 2
}
