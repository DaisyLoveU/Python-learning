{
 "cells": [
  {
   "cell_type": "markdown",
   "metadata": {},
   "source": [
    "## 题目大致为下\n",
    "\n",
    "\n",
    "  \n",
    "给出 n*m 大小的棋盘。遇到N就向上走一格（上北下南左西右东的规则），同时把这一格上的N抹除，若走到没有字母的格子，就要按照来到这个格子的方向多走一步，求最终走出棋盘要走多少步  \n",
    "  \n",
    "思路：直接进行递归"
   ]
  },
  {
   "cell_type": "code",
   "execution_count": null,
   "metadata": {},
   "outputs": [],
   "source": [
    "n,m = list(map(int, input().strip().split(\" \")))\n",
    "qipan = []\n",
    "for _ in range(n):\n",
    "    qipan.append(list(input().strip()))\n",
    "x,y = list(map(int, input().strip().split(\" \")))"
   ]
  },
  {
   "cell_type": "code",
   "execution_count": null,
   "metadata": {},
   "outputs": [],
   "source": [
    "x -= 1\n",
    "y -= 1"
   ]
  },
  {
   "cell_type": "code",
   "execution_count": 13,
   "metadata": {},
   "outputs": [],
   "source": [
    "# n,m = 4,4\n",
    "# qipan = [['N', 'S', 'S', 'W'],['W','W', 'S', 'N'], ['S', 'N', 'W', 'N'], ['E', 'E', 'E', 'N']]\n",
    "# x,y = 3,0\n",
    "\n",
    "res = 0\n",
    "def move(qipan, x, y, tmp=None):\n",
    "    global res\n",
    "    if x < 0 or x > 3 or y < 0 or y > 3:\n",
    "        return \n",
    "    k = qipan[x][y]\n",
    "    if k == 'E':\n",
    "        qipan[x][y] = '.'\n",
    "        move(qipan, x, y+1, 'E')\n",
    "    elif k == 'N':\n",
    "        qipan[x][y] = '.'\n",
    "        move(qipan, x-1, y, 'N')\n",
    "    elif k == 'W':\n",
    "        qipan[x][y] = '.'\n",
    "        move(qipan, x, y-1, 'W')\n",
    "    elif k == 'S':\n",
    "        qipan[x][y] = '.'\n",
    "        move(qipan, x+1, y, 'S')\n",
    "    elif k == '.':\n",
    "        if tmp == 'E':\n",
    "            move(qipan, x, y+1, tmp)\n",
    "        elif tmp == 'N':\n",
    "            move(qipan, x-1, y, tmp)\n",
    "        elif tmp == 'W':\n",
    "            move(qipan, x, y-1, tmp)\n",
    "        elif tmp == 'S':\n",
    "            move(qipan, x+1, y, tmp)\n",
    "#         res += 1\n",
    "    res += 1\n"
   ]
  },
  {
   "cell_type": "code",
   "execution_count": 14,
   "metadata": {},
   "outputs": [],
   "source": [
    "res = move(qipan, x, y)\n",
    "print(res)"
   ]
  },
  {
   "cell_type": "code",
   "execution_count": null,
   "metadata": {},
   "outputs": [],
   "source": []
  }
 ],
 "metadata": {
  "kernelspec": {
   "display_name": "Python 3",
   "language": "python",
   "name": "python3"
  },
  "language_info": {
   "codemirror_mode": {
    "name": "ipython",
    "version": 3
   },
   "file_extension": ".py",
   "mimetype": "text/x-python",
   "name": "python",
   "nbconvert_exporter": "python",
   "pygments_lexer": "ipython3",
   "version": "3.6.4"
  }
 },
 "nbformat": 4,
 "nbformat_minor": 2
}
