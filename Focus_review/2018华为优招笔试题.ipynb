{
 "cells": [
  {
   "cell_type": "markdown",
   "metadata": {},
   "source": [
    "# 2018华为优招笔试题一"
   ]
  },
  {
   "cell_type": "markdown",
   "metadata": {},
   "source": [
    "> 将字符串中重复的字符串按照ascii顺序输出  \n",
    "比如： input: ABCABCdd  output: ABCd"
   ]
  },
  {
   "cell_type": "code",
   "execution_count": 1,
   "metadata": {},
   "outputs": [],
   "source": [
    "def func(st):\n",
    "    '''使用Python的集合，滤去重复的字符，再用字符串的count找出重复的字符'''\n",
    "    stt = list(set(st))\n",
    "    from functools import reduce\n",
    "    res = []\n",
    "    for i in stt:\n",
    "        if st.count(i) > 1:\n",
    "            res.append(i)\n",
    "    res.sort()\n",
    "#     使用reduce实现可迭代对象列表的字符加法\n",
    "    print(reduce(lambda x,y: x+y, res))"
   ]
  },
  {
   "cell_type": "code",
   "execution_count": 2,
   "metadata": {},
   "outputs": [
    {
     "name": "stdout",
     "output_type": "stream",
     "text": [
      "AEa\n"
     ]
    }
   ],
   "source": [
    "func('ABCADFEEadhav')"
   ]
  },
  {
   "cell_type": "markdown",
   "metadata": {},
   "source": [
    "# 2018华为优招笔试题二"
   ]
  },
  {
   "cell_type": "markdown",
   "metadata": {},
   "source": [
    "> 要求将输入字符串重复出现次数最多的字符输出，如输入‘aaabbbbbbcca’,则输出‘bbbbbb’，若重复出现次数相等，则输出ascii靠前的字符"
   ]
  },
  {
   "cell_type": "code",
   "execution_count": 3,
   "metadata": {},
   "outputs": [],
   "source": [
    "def count_str(st):\n",
    "    '''记录字符串重复出现的字符及其个数'''\n",
    "    pattern = st[0]\n",
    "    count = 1\n",
    "    res = []\n",
    "    for s in st[1:]:\n",
    "        if pattern == s:\n",
    "            count += 1\n",
    "        else:\n",
    "#             当字符不重复出现时，将字符及计数添加至res\n",
    "#             这样的处理方法，对于最后重复的字符不会添加至res\n",
    "            res.append([pattern, count])\n",
    "            pattern = s\n",
    "            count = 1\n",
    "#     所以退出循环后，需要再执行一步添加操作\n",
    "    res.append([pattern, count])\n",
    "    return res"
   ]
  },
  {
   "cell_type": "code",
   "execution_count": 4,
   "metadata": {},
   "outputs": [],
   "source": [
    "def max_count(res):\n",
    "    '''输出最多次数的字符，若存在次数相等，则输出ascii较小的'''\n",
    "    max_item = res[0]\n",
    "    result = ''\n",
    "    for item in res[1:]:\n",
    "        if item[1] > max_item[1]:\n",
    "            max_item = item\n",
    "        elif item[1] == max_item[1]:\n",
    "                if item < max_item:\n",
    "                    max_item = item\n",
    "    for i in range(max_item[1]):\n",
    "        result += max_item[0]\n",
    "        \n",
    "    return result"
   ]
  },
  {
   "cell_type": "code",
   "execution_count": 5,
   "metadata": {},
   "outputs": [
    {
     "name": "stdout",
     "output_type": "stream",
     "text": [
      "aaaabbbbdddaaaeee\n"
     ]
    },
    {
     "data": {
      "text/plain": [
       "'aaaa'"
      ]
     },
     "execution_count": 5,
     "metadata": {},
     "output_type": "execute_result"
    }
   ],
   "source": [
    "res = count_str(input())\n",
    "result = max_count(res)\n",
    "result"
   ]
  }
 ],
 "metadata": {
  "kernelspec": {
   "display_name": "Python 3",
   "language": "python",
   "name": "python3"
  },
  "language_info": {
   "codemirror_mode": {
    "name": "ipython",
    "version": 3
   },
   "file_extension": ".py",
   "mimetype": "text/x-python",
   "name": "python",
   "nbconvert_exporter": "python",
   "pygments_lexer": "ipython3",
   "version": "3.6.4"
  }
 },
 "nbformat": 4,
 "nbformat_minor": 2
}
