{
 "cells": [
  {
   "cell_type": "markdown",
   "metadata": {
    "colab_type": "text",
    "id": "mQJf42wof8kh"
   },
   "source": [
    "#   函数的参数问题\n",
    "  \n",
    "  Python中函数的参数包括**位置参数，默认参数，可变参数，关键字参数，命名关键字参数**。  \n",
    "  \n",
    "  \n",
    "## 1 位置参数  \n",
    "\n",
    "  \n",
    "  位置参数即必选参数。若调用函数时没有传入位置参数，则会出现 TypeError"
   ]
  },
  {
   "cell_type": "code",
   "execution_count": 1,
   "metadata": {
    "colab": {},
    "colab_type": "code",
    "id": "7xVeqO0nU9kJ"
   },
   "outputs": [],
   "source": [
    "def func(a):\n",
    "  print('hello')"
   ]
  },
  {
   "cell_type": "code",
   "execution_count": 2,
   "metadata": {
    "colab": {
     "base_uri": "https://localhost:8080/",
     "height": 173
    },
    "colab_type": "code",
    "id": "Tpl6OpwTXDIv",
    "outputId": "c7c6db6b-8c47-4791-d29d-42647619bf9c"
   },
   "outputs": [
    {
     "ename": "TypeError",
     "evalue": "func() missing 1 required positional argument: 'a'",
     "output_type": "error",
     "traceback": [
      "\u001b[1;31m---------------------------------------------------------------------------\u001b[0m",
      "\u001b[1;31mTypeError\u001b[0m                                 Traceback (most recent call last)",
      "\u001b[1;32m<ipython-input-2-bd1982955a12>\u001b[0m in \u001b[0;36m<module>\u001b[1;34m()\u001b[0m\n\u001b[1;32m----> 1\u001b[1;33m \u001b[0mfunc\u001b[0m\u001b[1;33m(\u001b[0m\u001b[1;33m)\u001b[0m\u001b[1;33m\u001b[0m\u001b[0m\n\u001b[0m",
      "\u001b[1;31mTypeError\u001b[0m: func() missing 1 required positional argument: 'a'"
     ]
    }
   ],
   "source": [
    "func()"
   ]
  },
  {
   "cell_type": "markdown",
   "metadata": {
    "colab_type": "text",
    "id": "6UE_l5h8XEEJ"
   },
   "source": [
    "## 2 默认参数  \n",
    "\n",
    "  \n",
    "**默认参数必须放在位置参数后面。 **   \n",
    "**默认参数必须指向不变对象！**\n",
    "\n"
   ]
  },
  {
   "cell_type": "code",
   "execution_count": 3,
   "metadata": {
    "colab": {
     "base_uri": "https://localhost:8080/",
     "height": 53
    },
    "colab_type": "code",
    "id": "DyQhCGzLYYbd",
    "outputId": "0c2d20ca-260c-49d1-dad8-7205cd48c3ae"
   },
   "outputs": [
    {
     "name": "stdout",
     "output_type": "stream",
     "text": [
      "['end']\n",
      "['end', 'end']\n"
     ]
    }
   ],
   "source": [
    "def add_end(L = []):\n",
    "  L.append('end')\n",
    "  print(L)\n",
    "\n",
    "add_end()\n",
    "add_end()"
   ]
  },
  {
   "cell_type": "markdown",
   "metadata": {
    "colab_type": "text",
    "id": "0x82neJmYmcB"
   },
   "source": [
    "默认参数是 **[] **，但是函数似乎每次都“记住了”上次添加了** 'end'** 后的list。\n",
    "\n",
    "原因解释如下：\n",
    "\n",
    "Python函数在定义的时候，默认参数** L **的值就被计算出来了，即** [] **，因为默认参数** L **也是一个变量，它指向对象** [] **，每次调用该函数，如果改变了** L **的内容，则下次调用时，默认参数的内容就变了，不再是函数定义时的** [] **了。  \n",
    "  \n",
    "  要修改上面的例子，可以使用 ** None **这个不可变对象："
   ]
  },
  {
   "cell_type": "code",
   "execution_count": 4,
   "metadata": {
    "colab": {
     "base_uri": "https://localhost:8080/",
     "height": 53
    },
    "colab_type": "code",
    "id": "vjFtrDMUY8T6",
    "outputId": "c7090dc3-851e-4dc4-c7bc-411e89ee9ebd"
   },
   "outputs": [
    {
     "name": "stdout",
     "output_type": "stream",
     "text": [
      "['end']\n",
      "['end']\n"
     ]
    }
   ],
   "source": [
    "def add_end(L = None):\n",
    "  if L is None:\n",
    "    L = []\n",
    "  L.append('end')\n",
    "  print(L)\n",
    "  \n",
    "add_end()\n",
    "add_end()"
   ]
  },
  {
   "cell_type": "markdown",
   "metadata": {
    "colab_type": "text",
    "id": "9NDqf5LFaKqb"
   },
   "source": [
    "## 3 可变参数  \n",
    "不确定待传入的参数个数时，可以使用可变参数。  \n",
    "在函数内部，可变参数以**元组**接收。"
   ]
  },
  {
   "cell_type": "code",
   "execution_count": 5,
   "metadata": {
    "colab": {
     "base_uri": "https://localhost:8080/",
     "height": 53
    },
    "colab_type": "code",
    "id": "fX6Zynaqa4lV",
    "outputId": "84a7b629-3292-4742-9a70-64e294240882"
   },
   "outputs": [
    {
     "name": "stdout",
     "output_type": "stream",
     "text": [
      "35\n",
      "56\n"
     ]
    }
   ],
   "source": [
    "def my_sum(*arg):\n",
    "  sum = 0\n",
    "  for i in arg:\n",
    "    sum = sum + i*i\n",
    "  print(sum)\n",
    "\n",
    "my_sum(1,3,5)\n",
    "my_sum(*[2,4,6])"
   ]
  },
  {
   "cell_type": "markdown",
   "metadata": {
    "colab_type": "text",
    "id": "YXBgr_sRbkiB"
   },
   "source": [
    "## 4 关键字参数  \n",
    "  \n",
    "  可变参数允许你传入0个或任意个参数，这些可变参数在函数调用时自动组装为一个tuple。而关键字参数允许你传入0个或任意个含参数名的参数，这些关键字参数在函数内部自动组装为一个dict。\n"
   ]
  },
  {
   "cell_type": "code",
   "execution_count": 6,
   "metadata": {
    "colab": {
     "base_uri": "https://localhost:8080/",
     "height": 53
    },
    "colab_type": "code",
    "id": "GGwTx44KcGmU",
    "outputId": "f7529e97-471a-4d11-be19-54519c9d0a93"
   },
   "outputs": [
    {
     "name": "stdout",
     "output_type": "stream",
     "text": [
      "name:Bob,age:14,other:{'math': 99, 'English': 100}\n",
      "name:Lily,age:14,other:{'math': 98, 'English': 97}\n"
     ]
    }
   ],
   "source": [
    "def student(name, age=14, **kwarg):\n",
    "  print('name:{0},age:{1},other:{2}'.format(name,age,kwarg))\n",
    "\n",
    "student('Bob',14, math=99, English=100)\n",
    "\n",
    "grade = {'math':98, 'English': 97}\n",
    "\n",
    "student('Lily', **grade)"
   ]
  },
  {
   "cell_type": "markdown",
   "metadata": {
    "colab_type": "text",
    "id": "uiBg5BGUc6Pj"
   },
   "source": [
    "关键字参数可以扩展函数的功能。比如我们正在做学生注册的功能，除了姓名和年龄是必填之外，可以利用关键字参数扩展注册的需求。"
   ]
  },
  {
   "cell_type": "markdown",
   "metadata": {
    "colab_type": "text",
    "id": "VQvBXL8NeUYt"
   },
   "source": [
    "## 5 命名关键字参数  \n",
    "对于关键字参数，函数的调用者可以传入任意不受限制的关键字参数。至于到底传入了哪些，就需要在函数内部通过** kwarg **检查。  \n",
    "  \n",
    "  如果要限制关键字参数的名字，就可以用命名关键字参数。"
   ]
  },
  {
   "cell_type": "code",
   "execution_count": 7,
   "metadata": {
    "colab": {
     "base_uri": "https://localhost:8080/",
     "height": 35
    },
    "colab_type": "code",
    "id": "a7K7PriYd1_l",
    "outputId": "2c0769fc-3a31-41ca-810b-f3da3868d8a3"
   },
   "outputs": [
    {
     "name": "stdout",
     "output_type": "stream",
     "text": [
      "July 15 100 100\n"
     ]
    }
   ],
   "source": [
    "def student(name, age=14, *, math, English):\n",
    "  print(name, age, math, English)\n",
    "  \n",
    "  \n",
    "student('July', 15, math=100, English=100)"
   ]
  },
  {
   "cell_type": "markdown",
   "metadata": {
    "colab_type": "text",
    "id": "hmJAVdJefZiW"
   },
   "source": [
    "和关键字参数** **kwarg * *不同，命名关键字参数需要一个特殊分隔符*****，*后面的参数被视为命名关键字参数。    \n",
    "  \n",
    "  \n",
    "  命名关键字参数必须传入参数名，这和位置参数不同。如果没有传入参数名，调用将报错.\n",
    "  \n",
    " **如果函数定义中已经有了一个可变参数，后面跟着的命名关键字参数就不再需要一个特殊分隔符*了：**"
   ]
  },
  {
   "cell_type": "code",
   "execution_count": 8,
   "metadata": {
    "colab": {
     "base_uri": "https://localhost:8080/",
     "height": 35
    },
    "colab_type": "code",
    "id": "4tlFMaGnfT2X",
    "outputId": "60529245-56a4-408b-9b8d-97cbf78bb492"
   },
   "outputs": [
    {
     "name": "stdout",
     "output_type": "stream",
     "text": [
      "Sandy 15 ('F',) 92 100\n"
     ]
    }
   ],
   "source": [
    "def student(name, age=14, *arg, math, English):\n",
    "  print(name, age, arg, math, English)\n",
    "  \n",
    "student('Sandy', 15, 'F', math=92, English=100)"
   ]
  },
  {
   "cell_type": "code",
   "execution_count": null,
   "metadata": {
    "colab": {},
    "colab_type": "code",
    "id": "OddZBMKXgZMH"
   },
   "outputs": [],
   "source": []
  }
 ],
 "metadata": {
  "colab": {
   "collapsed_sections": [],
   "name": "函数的参数问题.ipynb",
   "provenance": [],
   "version": "0.3.2"
  },
  "kernelspec": {
   "display_name": "Python 3",
   "language": "python",
   "name": "python3"
  },
  "language_info": {
   "codemirror_mode": {
    "name": "ipython",
    "version": 3
   },
   "file_extension": ".py",
   "mimetype": "text/x-python",
   "name": "python",
   "nbconvert_exporter": "python",
   "pygments_lexer": "ipython3",
   "version": "3.6.4"
  }
 },
 "nbformat": 4,
 "nbformat_minor": 1
}
