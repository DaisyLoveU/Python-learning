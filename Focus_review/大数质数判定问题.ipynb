# 埃氏筛法 求素数

# def odd_list():
#     '''生成器：生成从3开始的奇数'''
#     n = 1
#     while 1:
#         n += 2
#         yield n

# def not_divisibla(m):
#     '''判断是否能整除m'''
#     return lambda x: x % m >0

# def primes():
#     '''生成器：生成素数'''
#     yield 2
#     num = odd_list()
#     while 1:
#         m = next(num)
#         yield m
#         num = filter(not_divisibla(m), num)  #过滤掉m的倍数
#         # num = filter(lambda x: x%m>0, num)  # 若使用此行代码，结果不对，输出为[2, 3, 5, 7, 9, 11, 13, 15, 17, 19, 21, 23, 25, 27, 29, 31, 33, 35, 37, 39, 41, 43, 45, 47, 49, 51, 53, 55, 57, 59, 61, 63, 65, 67, 69, 71, 73, 75, 77,
# # # 79, 81, 83, 85, 87, 89, 91, 93, 95, 97, 99]，原因是：有待思考。。。。

# def get_primes(N):
#     '''得到N以内的素数''' 
#     primes_list = []   
#     for i in primes():
#         if i <= N:
#             primes_list += [i]
#         else:
#             return primes_list

# if __name__ == '__main__':
#     primes_list = get_primes(100)
#     print(primes_list)
# 
