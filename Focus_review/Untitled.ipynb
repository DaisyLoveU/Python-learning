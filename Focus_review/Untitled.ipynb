{
 "cells": [
  {
   "cell_type": "code",
   "execution_count": 1,
   "metadata": {},
   "outputs": [],
   "source": [
    "import re\n"
   ]
  },
  {
   "cell_type": "code",
   "execution_count": 10,
   "metadata": {},
   "outputs": [
    {
     "data": {
      "text/plain": [
       "'b'"
      ]
     },
     "execution_count": 10,
     "metadata": {},
     "output_type": "execute_result"
    }
   ],
   "source": [
    "(re.search(r'a?b','acbacb')).group()"
   ]
  },
  {
   "cell_type": "code",
   "execution_count": 3,
   "metadata": {},
   "outputs": [
    {
     "name": "stdout",
     "output_type": "stream",
     "text": [
      "Help on function match in module re:\n",
      "\n",
      "match(pattern, string, flags=0)\n",
      "    Try to apply the pattern at the start of the string, returning\n",
      "    a match object, or None if no match was found.\n",
      "\n"
     ]
    }
   ],
   "source": [
    "help(re.match)"
   ]
  },
  {
   "cell_type": "code",
   "execution_count": 11,
   "metadata": {},
   "outputs": [
    {
     "name": "stdout",
     "output_type": "stream",
     "text": [
      "Help on function search in module re:\n",
      "\n",
      "search(pattern, string, flags=0)\n",
      "    Scan through string looking for a match to the pattern, returning\n",
      "    a match object, or None if no match was found.\n",
      "\n"
     ]
    }
   ],
   "source": [
    "help(re.search)"
   ]
  },
  {
   "cell_type": "code",
   "execution_count": 15,
   "metadata": {},
   "outputs": [
    {
     "data": {
      "text/plain": [
       "'aba'"
      ]
     },
     "execution_count": 15,
     "metadata": {},
     "output_type": "execute_result"
    }
   ],
   "source": [
    "re.search(r'aba','ababa').group()"
   ]
  },
  {
   "cell_type": "code",
   "execution_count": 16,
   "metadata": {},
   "outputs": [
    {
     "data": {
      "text/plain": [
       "False"
      ]
     },
     "execution_count": 16,
     "metadata": {},
     "output_type": "execute_result"
    }
   ],
   "source": [
    "'a_a'=='aaa'"
   ]
  },
  {
   "cell_type": "code",
   "execution_count": 17,
   "metadata": {},
   "outputs": [
    {
     "name": "stdout",
     "output_type": "stream",
     "text": [
      "0\n"
     ]
    }
   ],
   "source": [
    "def kmp(mom_string,son_string):\n",
    "    # 传入一个母串和一个子串\n",
    "    # 返回子串匹配上的第一个位置，若没有匹配上返回-1\n",
    "    test=''\n",
    "    if type(mom_string)!=type(test) or type(son_string)!=type(test):\n",
    "        return -1\n",
    "    if len(son_string)==0:\n",
    "        return 0\n",
    "    if len(mom_string)==0:\n",
    "        return -1\n",
    "    #求next数组\n",
    "    next=[-1]*len(son_string)\n",
    "    if len(son_string)>1:# 这里加if是怕列表越界\n",
    "        next[1]=0\n",
    "        i,j=1,0\n",
    "        while i<len(son_string)-1:#这里一定要-1，不然会像例子中出现next[8]会越界的\n",
    "            if j==-1 or son_string[i]==son_string[j]:\n",
    "                i+=1\n",
    "                j+=1\n",
    "                next[i]=j\n",
    "            else:\n",
    "                j=next[j]\n",
    " \n",
    "    # kmp框架\n",
    "    m=s=0#母指针和子指针初始化为0\n",
    "    while(s<len(son_string) and m<len(mom_string)):\n",
    "        # 匹配成功,或者遍历完母串匹配失败退出\n",
    "        if s==-1 or mom_string[m]==son_string[s]:\n",
    "            m+=1\n",
    "            s+=1\n",
    "        else:\n",
    "            s=next[s]\n",
    " \n",
    "    if s==len(son_string):#匹配成功\n",
    "        return m-s\n",
    "    #匹配失败\n",
    "    return -1\n",
    " \n",
    "# 测试\n",
    "mom_string='ababa'\n",
    "son_string='aba'\n",
    "print(kmp(mom_string,son_string))"
   ]
  },
  {
   "cell_type": "code",
   "execution_count": 19,
   "metadata": {},
   "outputs": [
    {
     "name": "stdout",
     "output_type": "stream",
     "text": [
      "2\n"
     ]
    }
   ],
   "source": [
    "import re\n",
    "reg=re.compile(\"(?=aba)\")\n",
    "length=len(reg.findall('ababa'))\n",
    "print(length)"
   ]
  },
  {
   "cell_type": "code",
   "execution_count": 30,
   "metadata": {},
   "outputs": [],
   "source": [
    "import re \n",
    "s = \"123456789123456789\"\n",
    "matches = re.finditer(r'(?=(123))',s)\n",
    "results = [int(match.group(1)) for match in matches]"
   ]
  },
  {
   "cell_type": "code",
   "execution_count": 31,
   "metadata": {},
   "outputs": [
    {
     "data": {
      "text/plain": [
       "[123, 123]"
      ]
     },
     "execution_count": 31,
     "metadata": {},
     "output_type": "execute_result"
    }
   ],
   "source": [
    "results"
   ]
  },
  {
   "cell_type": "code",
   "execution_count": 77,
   "metadata": {},
   "outputs": [
    {
     "name": "stdout",
     "output_type": "stream",
     "text": [
      "1\n",
      "5\n"
     ]
    }
   ],
   "source": [
    "text = 'a?asd?'\n",
    "for i in re.finditer(r'\\?',text):\n",
    "    print(i.span()[0])"
   ]
  },
  {
   "cell_type": "code",
   "execution_count": 80,
   "metadata": {
    "scrolled": true
   },
   "outputs": [
    {
     "data": {
      "text/plain": [
       "['agb']"
      ]
     },
     "execution_count": 80,
     "metadata": {},
     "output_type": "execute_result"
    }
   ],
   "source": [
    "re.findall(r'a.b','agb')"
   ]
  },
  {
   "cell_type": "code",
   "execution_count": 87,
   "metadata": {},
   "outputs": [],
   "source": [
    "s = 'a?a?a????????????????'\n",
    "t = 'aba'\n"
   ]
  },
  {
   "cell_type": "code",
   "execution_count": 88,
   "metadata": {},
   "outputs": [
    {
     "data": {
      "text/plain": [
       "'a.a.a................'"
      ]
     },
     "execution_count": 88,
     "metadata": {},
     "output_type": "execute_result"
    }
   ],
   "source": [
    "s = s.replace('?', '.')\n",
    "s"
   ]
  },
  {
   "cell_type": "code",
   "execution_count": 89,
   "metadata": {},
   "outputs": [],
   "source": [
    "res = 0\n",
    "for i in range(len(s)):\n",
    "    tmp = s[i:i+len(t)]\n",
    "    if len(tmp) < len(t): break\n",
    "    if re.findall(r'{}'.format(tmp), t):\n",
    "        res += 1"
   ]
  },
  {
   "cell_type": "code",
   "execution_count": 90,
   "metadata": {},
   "outputs": [
    {
     "data": {
      "text/plain": [
       "17"
      ]
     },
     "execution_count": 90,
     "metadata": {},
     "output_type": "execute_result"
    }
   ],
   "source": [
    "res"
   ]
  },
  {
   "cell_type": "code",
   "execution_count": null,
   "metadata": {},
   "outputs": [],
   "source": []
  }
 ],
 "metadata": {
  "kernelspec": {
   "display_name": "Python 3",
   "language": "python",
   "name": "python3"
  },
  "language_info": {
   "codemirror_mode": {
    "name": "ipython",
    "version": 3
   },
   "file_extension": ".py",
   "mimetype": "text/x-python",
   "name": "python",
   "nbconvert_exporter": "python",
   "pygments_lexer": "ipython3",
   "version": "3.6.4"
  }
 },
 "nbformat": 4,
 "nbformat_minor": 2
}
