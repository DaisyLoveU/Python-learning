{
 "cells": [
  {
   "cell_type": "markdown",
   "metadata": {},
   "source": [
    "## 1. 偏函数 functools.partial"
   ]
  },
  {
   "cell_type": "markdown",
   "metadata": {},
   "source": [
    "> 偏函数是2.5版本以后引进来的东西。属于函数式编程的一部分，使用偏函数可以通过有效地“冻结”那些预先确定的参数，来缓存函数参数，然后在运行时，当获得需要的剩余参数后，可以将他们解冻，传递到最终的参数中，从而使用最终确定的所有参数去调用函数。"
   ]
  },
  {
   "cell_type": "code",
   "execution_count": 1,
   "metadata": {},
   "outputs": [],
   "source": [
    "from functools import partial\n",
    "\n",
    "def add_func(*args):\n",
    "    res = 0 \n",
    "    for i in args:\n",
    "        res += i\n",
    "    return res"
   ]
  },
  {
   "cell_type": "code",
   "execution_count": 2,
   "metadata": {},
   "outputs": [
    {
     "data": {
      "text/plain": [
       "40"
      ]
     },
     "execution_count": 2,
     "metadata": {},
     "output_type": "execute_result"
    }
   ],
   "source": [
    "plus = partial(add_func, 10)\n",
    "plus(10,20)"
   ]
  },
  {
   "cell_type": "markdown",
   "metadata": {},
   "source": [
    "定义一个函数add_func(*awg)，实现对所有的位置参数累加  \n",
    "当知道每次调用add_func时，必会加10，避免多次调用反复使用相同参数的情况，使用偏函数把10绑定，多次调用的时候就减少了重复。\n",
    "***"
   ]
  },
  {
   "cell_type": "markdown",
   "metadata": {},
   "source": [
    "## 2. 闭包"
   ]
  },
  {
   "cell_type": "markdown",
   "metadata": {},
   "source": [
    "从下面代码找找感觉"
   ]
  },
  {
   "cell_type": "code",
   "execution_count": 3,
   "metadata": {},
   "outputs": [
    {
     "name": "stdout",
     "output_type": "stream",
     "text": [
      "1\n"
     ]
    }
   ],
   "source": [
    "def outer():\n",
    "    x = 1\n",
    "    def inner():\n",
    "        print(x) # 1\n",
    "    return inner\n",
    "\n",
    "foo = outer()\n",
    "\n",
    "foo()"
   ]
  },
  {
   "cell_type": "markdown",
   "metadata": {},
   "source": [
    "inner作为函数的引用由outer返回，保存在foo变量，foo指向函数inner的引用，且foo()可以成功打印x的值为1。  \n",
    "这是因为Python支持一个叫做函数闭包的特性，通俗讲：嵌套定义在非全局作用域里面的函数能够记住它在被定义的时候它所处的封闭命名空间。"
   ]
  },
  {
   "cell_type": "markdown",
   "metadata": {},
   "source": [
    "**每次函数outer被调用的时候，函数inner都会被重新定义。**  \n",
    "对上面代码稍稍改动："
   ]
  },
  {
   "cell_type": "code",
   "execution_count": 4,
   "metadata": {},
   "outputs": [
    {
     "name": "stdout",
     "output_type": "stream",
     "text": [
      "1\n",
      "2\n"
     ]
    }
   ],
   "source": [
    "def outer(x):\n",
    "    def inner():\n",
    "        print(x) # 1\n",
    "    return inner\n",
    "\n",
    "fun1 = outer(1)\n",
    "fun2 = outer(2)\n",
    "\n",
    "fun1()\n",
    "fun2()"
   ]
  },
  {
   "cell_type": "markdown",
   "metadata": {},
   "source": [
    "**闭包 -- 被函数记住的封闭作用域**  \n",
    "***"
   ]
  },
  {
   "cell_type": "markdown",
   "metadata": {},
   "source": [
    "## 3. 装饰器"
   ]
  },
  {
   "cell_type": "markdown",
   "metadata": {},
   "source": [
    "> 装饰器本质上是一个Python函数，它可以让其他函数在不需要做任何代码变动的前提下增加额外功能，装饰器的返回值也是一个函数对象。它经常用于有切面需求的场景，比如：插入日志、性能测试、事务处理、缓存、权限校验等场景。装饰器是解决这类问题的绝佳设计，有了装饰器，我们就可以抽离出大量与函数功能本身无关的雷同代码并继续重用。"
   ]
  },
  {
   "cell_type": "markdown",
   "metadata": {},
   "source": [
    "一句话概括，装饰器的作用就是，在不改变已存在的函数或对象前提下，为其添加额外的功能"
   ]
  },
  {
   "cell_type": "code",
   "execution_count": 5,
   "metadata": {},
   "outputs": [
    {
     "name": "stdout",
     "output_type": "stream",
     "text": [
      "foo called at Mon Jul 23 10:45:37 2018\n",
      "I am foo\n",
      "foo called at Mon Jul 23 10:45:39 2018\n",
      "I am foo\n"
     ]
    }
   ],
   "source": [
    "from time import ctime, sleep\n",
    "\n",
    "def timefun(func):\n",
    "    def wrapped_func():\n",
    "        print(\"%s called at %s\"%(func.__name__, ctime()))\n",
    "        func()\n",
    "    return wrapped_func\n",
    "\n",
    "@timefun\n",
    "def foo():\n",
    "    print(\"I am foo\")\n",
    "\n",
    "foo()\n",
    "sleep(2)\n",
    "foo()"
   ]
  },
  {
   "cell_type": "markdown",
   "metadata": {},
   "source": [
    "@timefun 就是使用了装饰器，相当于foo = timefun(foo)\n",
    "foo先作为参数赋值给func后,foo接收指向timefun返回的wrapped_func\n",
    "foo()\n",
    "调用foo(),即等价调用wrapped_func()\n",
    "内部函数wrapped_func被引用，所以外部函数的func变量(自由变量)并没有释放\n",
    "func里保存的是原foo函数对象"
   ]
  },
  {
   "cell_type": "markdown",
   "metadata": {},
   "source": [
    "### 装饰器功能"
   ]
  },
  {
   "cell_type": "markdown",
   "metadata": {},
   "source": [
    "- 引用日志\n",
    "- 函数执行时间统计\n",
    "- 执行函数前预备处理\n",
    "- 执行函数后清理处理\n",
    "- 权限校验\n",
    "- 缓存"
   ]
  },
  {
   "cell_type": "markdown",
   "metadata": {},
   "source": [
    "装饰器示例  \n",
    "\n",
    "** *1. 无参数的装饰器（上面例子即是）**"
   ]
  },
  {
   "cell_type": "markdown",
   "metadata": {},
   "source": [
    "** *2. 被修饰的函数有参数**"
   ]
  },
  {
   "cell_type": "code",
   "execution_count": 6,
   "metadata": {},
   "outputs": [
    {
     "name": "stdout",
     "output_type": "stream",
     "text": [
      "foo called at Mon Jul 23 10:45:39 2018\n",
      "3 5\n",
      "8\n",
      "foo called at Mon Jul 23 10:45:40 2018\n",
      "1 2\n",
      "3\n"
     ]
    }
   ],
   "source": [
    "def timefun(func):\n",
    "    def wrapped_func(a, b):\n",
    "        print('{} called at {}'.format(func.__name__, ctime()))\n",
    "        print(a, b)\n",
    "        func(a, b)\n",
    "    return wrapped_func\n",
    "\n",
    "@timefun\n",
    "def foo(a, b):\n",
    "    print(a + b)\n",
    "    \n",
    "foo(3, 5)\n",
    "sleep(1)\n",
    "foo(1, 2)"
   ]
  },
  {
   "cell_type": "markdown",
   "metadata": {},
   "source": [
    "** *3. 被修饰的函数有不定长参数**"
   ]
  },
  {
   "cell_type": "code",
   "execution_count": 7,
   "metadata": {},
   "outputs": [
    {
     "name": "stdout",
     "output_type": "stream",
     "text": [
      "foo called at Mon Jul 23 10:45:40 2018\n",
      "15\n",
      "foo called at Mon Jul 23 10:45:42 2018\n",
      "15\n"
     ]
    }
   ],
   "source": [
    "def timefun(func):\n",
    "    def wrapped_func(*args, **kwargs):\n",
    "        print(\"%s called at %s\"%(func.__name__, ctime()))\n",
    "        func(*args, **kwargs)\n",
    "    return wrapped_func\n",
    "\n",
    "@timefun\n",
    "def foo(a, b, c):\n",
    "    print(a+b+c)\n",
    "\n",
    "foo(3,5,7)\n",
    "sleep(2)\n",
    "foo(2,4,9)"
   ]
  },
  {
   "cell_type": "markdown",
   "metadata": {},
   "source": [
    "** *4. 装饰器中的return**"
   ]
  },
  {
   "cell_type": "code",
   "execution_count": 8,
   "metadata": {
    "scrolled": true
   },
   "outputs": [
    {
     "name": "stdout",
     "output_type": "stream",
     "text": [
      "get_info called at Mon Jul 23 10:45:42 2018\n"
     ]
    },
    {
     "data": {
      "text/plain": [
       "'-----hahahaha------'"
      ]
     },
     "execution_count": 8,
     "metadata": {},
     "output_type": "execute_result"
    }
   ],
   "source": [
    "def timefun(func):\n",
    "    def wrapped_func(*args, **kwargs):\n",
    "        print(\"%s called at %s\"%(func.__name__, ctime()))\n",
    "        return func(*args, **kwargs)\n",
    "    return wrapped_func\n",
    "@timefun\n",
    "def get_info():\n",
    "    return '-----hahahaha------'\n",
    "\n",
    "get_info()"
   ]
  },
  {
   "cell_type": "markdown",
   "metadata": {},
   "source": [
    "** *5. 装饰器带有参数，在原有装饰器的基础上，设置外部变量**"
   ]
  },
  {
   "cell_type": "code",
   "execution_count": 9,
   "metadata": {},
   "outputs": [
    {
     "name": "stdout",
     "output_type": "stream",
     "text": [
      "foo called at Mon Jul 23 10:45:42 2018 itcast\n",
      "I am foo\n",
      "foo called at Mon Jul 23 10:45:43 2018 itcast\n",
      "I am foo\n",
      "too called at Mon Jul 23 10:45:43 2018 python\n",
      "I am too\n",
      "too called at Mon Jul 23 10:45:44 2018 python\n",
      "I am too\n"
     ]
    }
   ],
   "source": [
    "def timefun_arg(pre=\"hello\"):\n",
    "    def timefun(func):\n",
    "        def wrappedfunc():\n",
    "            print(\"%s called at %s %s\"%(func.__name__, ctime(), pre))\n",
    "            return func()\n",
    "        return wrappedfunc\n",
    "    return timefun\n",
    "\n",
    "@timefun_arg(\"itcast\")\n",
    "def foo():\n",
    "    print(\"I am foo\")\n",
    "\n",
    "@timefun_arg(\"python\")\n",
    "def too():\n",
    "    print(\"I am too\")\n",
    "\n",
    "foo()\n",
    "sleep(1)\n",
    "foo()\n",
    "\n",
    "too()\n",
    "sleep(1)\n",
    "too()"
   ]
  },
  {
   "cell_type": "markdown",
   "metadata": {},
   "source": [
    "**可以理解为  \n",
    "foo()==timefun_arg(\"itcast\")(foo)()**"
   ]
  },
  {
   "cell_type": "markdown",
   "metadata": {},
   "source": [
    "** *6. 类装饰器**"
   ]
  },
  {
   "cell_type": "markdown",
   "metadata": {},
   "source": [
    "装饰器函数其实是这样一个接口约束，它必须接受一个callable对象作为参数，然后返回一个callable对象。在Python中一般callable对象都是函数，但也有例外。只要某个对象重写了 __call__() 方法，那么这个对象就是callable的。"
   ]
  },
  {
   "cell_type": "code",
   "execution_count": 10,
   "metadata": {},
   "outputs": [
    {
     "name": "stdout",
     "output_type": "stream",
     "text": [
      "call me!\n"
     ]
    }
   ],
   "source": [
    "class Test():\n",
    "    def __call__(self):\n",
    "        print('call me!')\n",
    "\n",
    "t = Test()\n",
    "t()  # call me"
   ]
  },
  {
   "cell_type": "markdown",
   "metadata": {},
   "source": [
    "类装饰器 demo"
   ]
  },
  {
   "cell_type": "code",
   "execution_count": 11,
   "metadata": {},
   "outputs": [
    {
     "name": "stdout",
     "output_type": "stream",
     "text": [
      "---初始化---\n",
      "func name is test\n",
      "---装饰器中的功能---\n",
      "----test---\n"
     ]
    }
   ],
   "source": [
    "class Test(object):\n",
    "    def __init__(self, func):\n",
    "        print(\"---初始化---\")\n",
    "        print(\"func name is %s\"%func.__name__)\n",
    "        self.__func = func\n",
    "    def __call__(self):\n",
    "        print(\"---装饰器中的功能---\")\n",
    "        self.__func()\n",
    "\n",
    "@Test\n",
    "def test():\n",
    "    print(\"----test---\")\n",
    "\n",
    "test()"
   ]
  },
  {
   "cell_type": "markdown",
   "metadata": {},
   "source": [
    "说明：\n",
    "1. 当用Test来装作装饰器对test函数进行装饰的时候，首先会创建Test的实例对象\n",
    "并且会把test这个函数名当做参数传递到\\__init\\__方法中\n",
    "即在\\__init__方法中的func变量指向了test函数体\n",
    "2. test函数相当于指向了用Test创建出来的实例对象\n",
    "3. 当在使用test()进行调用时，就相当于让这个对象()，因此会调用这个对象的\\__call__方法\n",
    "4. 为了能够在\\__call__方法中调用原来test指向的函数体，所以在\\__init__方法中就需要一个实例属性来保存这个函数体的引用\n",
    "所以才有了self.\\__func = func这句代码，从而在调用\\__call__方法中能够调用到test之前的函数体"
   ]
  },
  {
   "cell_type": "markdown",
   "metadata": {},
   "source": [
    "- 小细节——wraps函数"
   ]
  },
  {
   "cell_type": "markdown",
   "metadata": {},
   "source": [
    "使用装饰器时，有一些细节需要被注意。例如，被装饰后的函数其实已经是另外一个函数了（函数名等函数属性会发生改变）。  \n",
    "添加后由于函数名和函数的doc发生了改变，对测试结果有一些影响，例如:"
   ]
  },
  {
   "cell_type": "code",
   "execution_count": 12,
   "metadata": {},
   "outputs": [
    {
     "name": "stdout",
     "output_type": "stream",
     "text": [
      "note something\n",
      "I am test\n",
      "wrapper function\n"
     ]
    }
   ],
   "source": [
    "def note(func):\n",
    "    \"note function\"\n",
    "    def wrapper():\n",
    "        \"wrapper function\"\n",
    "        print('note something')\n",
    "        return func()\n",
    "    return wrapper\n",
    "\n",
    "@note\n",
    "def test():\n",
    "    \"test function\"\n",
    "    print('I am test')\n",
    "\n",
    "test()\n",
    "print(test.__doc__)"
   ]
  },
  {
   "cell_type": "markdown",
   "metadata": {},
   "source": [
    "所以，Python的functools包中提供了一个叫wraps的装饰器来消除这样的副作用。例如：\n"
   ]
  },
  {
   "cell_type": "code",
   "execution_count": 13,
   "metadata": {},
   "outputs": [
    {
     "name": "stdout",
     "output_type": "stream",
     "text": [
      "note something\n",
      "I am test\n",
      "test function\n"
     ]
    }
   ],
   "source": [
    "import functools\n",
    "def note(func):\n",
    "    \"note function\"\n",
    "    @functools.wraps(func)\n",
    "    def wrapper():\n",
    "        \"wrapper function\"\n",
    "        print('note something')\n",
    "        return func()\n",
    "    return wrapper\n",
    "\n",
    "@note\n",
    "def test():\n",
    "    \"test function\"\n",
    "    print('I am test')\n",
    "\n",
    "test()\n",
    "print(test.__doc__)"
   ]
  },
  {
   "cell_type": "code",
   "execution_count": null,
   "metadata": {},
   "outputs": [],
   "source": []
  }
 ],
 "metadata": {
  "kernelspec": {
   "display_name": "Python 3",
   "language": "python",
   "name": "python3"
  },
  "language_info": {
   "codemirror_mode": {
    "name": "ipython",
    "version": 3
   },
   "file_extension": ".py",
   "mimetype": "text/x-python",
   "name": "python",
   "nbconvert_exporter": "python",
   "pygments_lexer": "ipython3",
   "version": "3.6.4"
  }
 },
 "nbformat": 4,
 "nbformat_minor": 2
}
